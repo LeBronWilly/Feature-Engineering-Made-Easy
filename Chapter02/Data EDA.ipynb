{
 "cells": [
  {
   "cell_type": "code",
   "execution_count": 2,
   "metadata": {},
   "outputs": [],
   "source": [
    "# import packages we need for exploratory data analysis (EDA)\n",
    "import pandas as pd  # to store tabular data\n",
    "import numpy as np  # to do some math\n",
    "import matplotlib.pyplot as plt  # a popular data visualization tool\n",
    "import seaborn as sns  # another popular data visualization tool\n",
    "%matplotlib inline  \n",
    "plt.style.use('fivethirtyeight')  # a popular data visualization theme"
   ]
  },
  {
   "cell_type": "markdown",
   "metadata": {},
   "source": [
    "# Salary Ranges Dataset:"
   ]
  },
  {
   "cell_type": "code",
   "execution_count": 3,
   "metadata": {
    "scrolled": true
   },
   "outputs": [],
   "source": [
    "# load in the data set\n",
    "salary_ranges = pd.read_csv('../data/Salary_Ranges_by_Job_Classification.csv')"
   ]
  },
  {
   "cell_type": "code",
   "execution_count": 4,
   "metadata": {},
   "outputs": [
    {
     "data": {
      "text/html": [
       "<div>\n",
       "<style scoped>\n",
       "    .dataframe tbody tr th:only-of-type {\n",
       "        vertical-align: middle;\n",
       "    }\n",
       "\n",
       "    .dataframe tbody tr th {\n",
       "        vertical-align: top;\n",
       "    }\n",
       "\n",
       "    .dataframe thead th {\n",
       "        text-align: right;\n",
       "    }\n",
       "</style>\n",
       "<table border=\"1\" class=\"dataframe\">\n",
       "  <thead>\n",
       "    <tr style=\"text-align: right;\">\n",
       "      <th></th>\n",
       "      <th>SetID</th>\n",
       "      <th>Job Code</th>\n",
       "      <th>Eff Date</th>\n",
       "      <th>Sal End Date</th>\n",
       "      <th>Salary SetID</th>\n",
       "      <th>Sal Plan</th>\n",
       "      <th>Grade</th>\n",
       "      <th>Step</th>\n",
       "      <th>Biweekly High Rate</th>\n",
       "      <th>Biweekly Low Rate</th>\n",
       "      <th>Union Code</th>\n",
       "      <th>Extended Step</th>\n",
       "      <th>Pay Type</th>\n",
       "    </tr>\n",
       "  </thead>\n",
       "  <tbody>\n",
       "    <tr>\n",
       "      <th>0</th>\n",
       "      <td>COMMN</td>\n",
       "      <td>0109</td>\n",
       "      <td>07/01/2009 12:00:00 AM</td>\n",
       "      <td>06/30/2010 12:00:00 AM</td>\n",
       "      <td>COMMN</td>\n",
       "      <td>SFM</td>\n",
       "      <td>00000</td>\n",
       "      <td>1</td>\n",
       "      <td>$0.00</td>\n",
       "      <td>$0.00</td>\n",
       "      <td>330</td>\n",
       "      <td>0</td>\n",
       "      <td>C</td>\n",
       "    </tr>\n",
       "    <tr>\n",
       "      <th>1</th>\n",
       "      <td>COMMN</td>\n",
       "      <td>0110</td>\n",
       "      <td>07/01/2009 12:00:00 AM</td>\n",
       "      <td>06/30/2010 12:00:00 AM</td>\n",
       "      <td>COMMN</td>\n",
       "      <td>SFM</td>\n",
       "      <td>00000</td>\n",
       "      <td>1</td>\n",
       "      <td>$15.00</td>\n",
       "      <td>$15.00</td>\n",
       "      <td>323</td>\n",
       "      <td>0</td>\n",
       "      <td>D</td>\n",
       "    </tr>\n",
       "    <tr>\n",
       "      <th>2</th>\n",
       "      <td>COMMN</td>\n",
       "      <td>0111</td>\n",
       "      <td>07/01/2009 12:00:00 AM</td>\n",
       "      <td>06/30/2010 12:00:00 AM</td>\n",
       "      <td>COMMN</td>\n",
       "      <td>SFM</td>\n",
       "      <td>00000</td>\n",
       "      <td>1</td>\n",
       "      <td>$25.00</td>\n",
       "      <td>$25.00</td>\n",
       "      <td>323</td>\n",
       "      <td>0</td>\n",
       "      <td>D</td>\n",
       "    </tr>\n",
       "    <tr>\n",
       "      <th>3</th>\n",
       "      <td>COMMN</td>\n",
       "      <td>0112</td>\n",
       "      <td>07/01/2009 12:00:00 AM</td>\n",
       "      <td>06/30/2010 12:00:00 AM</td>\n",
       "      <td>COMMN</td>\n",
       "      <td>SFM</td>\n",
       "      <td>00000</td>\n",
       "      <td>1</td>\n",
       "      <td>$50.00</td>\n",
       "      <td>$50.00</td>\n",
       "      <td>323</td>\n",
       "      <td>0</td>\n",
       "      <td>D</td>\n",
       "    </tr>\n",
       "    <tr>\n",
       "      <th>4</th>\n",
       "      <td>COMMN</td>\n",
       "      <td>0114</td>\n",
       "      <td>07/01/2009 12:00:00 AM</td>\n",
       "      <td>06/30/2010 12:00:00 AM</td>\n",
       "      <td>COMMN</td>\n",
       "      <td>SFM</td>\n",
       "      <td>00000</td>\n",
       "      <td>1</td>\n",
       "      <td>$100.00</td>\n",
       "      <td>$100.00</td>\n",
       "      <td>323</td>\n",
       "      <td>0</td>\n",
       "      <td>M</td>\n",
       "    </tr>\n",
       "  </tbody>\n",
       "</table>\n",
       "</div>"
      ],
      "text/plain": [
       "   SetID Job Code                Eff Date            Sal End Date  \\\n",
       "0  COMMN     0109  07/01/2009 12:00:00 AM  06/30/2010 12:00:00 AM   \n",
       "1  COMMN     0110  07/01/2009 12:00:00 AM  06/30/2010 12:00:00 AM   \n",
       "2  COMMN     0111  07/01/2009 12:00:00 AM  06/30/2010 12:00:00 AM   \n",
       "3  COMMN     0112  07/01/2009 12:00:00 AM  06/30/2010 12:00:00 AM   \n",
       "4  COMMN     0114  07/01/2009 12:00:00 AM  06/30/2010 12:00:00 AM   \n",
       "\n",
       "  Salary SetID Sal Plan  Grade  Step Biweekly High Rate Biweekly Low Rate  \\\n",
       "0        COMMN      SFM  00000     1              $0.00             $0.00   \n",
       "1        COMMN      SFM  00000     1             $15.00            $15.00   \n",
       "2        COMMN      SFM  00000     1             $25.00            $25.00   \n",
       "3        COMMN      SFM  00000     1             $50.00            $50.00   \n",
       "4        COMMN      SFM  00000     1            $100.00           $100.00   \n",
       "\n",
       "   Union Code  Extended Step Pay Type  \n",
       "0         330              0        C  \n",
       "1         323              0        D  \n",
       "2         323              0        D  \n",
       "3         323              0        D  \n",
       "4         323              0        M  "
      ]
     },
     "execution_count": 4,
     "metadata": {},
     "output_type": "execute_result"
    }
   ],
   "source": [
    "# view the first few rows and the headers\n",
    "salary_ranges.head()"
   ]
  },
  {
   "cell_type": "code",
   "execution_count": 5,
   "metadata": {},
   "outputs": [
    {
     "name": "stdout",
     "output_type": "stream",
     "text": [
      "<class 'pandas.core.frame.DataFrame'>\n",
      "RangeIndex: 1356 entries, 0 to 1355\n",
      "Data columns (total 13 columns):\n",
      " #   Column              Non-Null Count  Dtype \n",
      "---  ------              --------------  ----- \n",
      " 0   SetID               1356 non-null   object\n",
      " 1   Job Code            1356 non-null   object\n",
      " 2   Eff Date            1356 non-null   object\n",
      " 3   Sal End Date        1356 non-null   object\n",
      " 4   Salary SetID        1356 non-null   object\n",
      " 5   Sal Plan            1356 non-null   object\n",
      " 6   Grade               1356 non-null   object\n",
      " 7   Step                1356 non-null   int64 \n",
      " 8   Biweekly High Rate  1356 non-null   object\n",
      " 9   Biweekly Low Rate   1356 non-null   object\n",
      " 10  Union Code          1356 non-null   int64 \n",
      " 11  Extended Step       1356 non-null   int64 \n",
      " 12  Pay Type            1356 non-null   object\n",
      "dtypes: int64(3), object(10)\n",
      "memory usage: 137.8+ KB\n"
     ]
    }
   ],
   "source": [
    "# get a sense of how many rows of data there are, if there are any missing values, and what data type each column has\n",
    "salary_ranges.info()"
   ]
  },
  {
   "cell_type": "code",
   "execution_count": 6,
   "metadata": {},
   "outputs": [
    {
     "data": {
      "text/plain": [
       "SetID                 0\n",
       "Job Code              0\n",
       "Eff Date              0\n",
       "Sal End Date          0\n",
       "Salary SetID          0\n",
       "Sal Plan              0\n",
       "Grade                 0\n",
       "Step                  0\n",
       "Biweekly High Rate    0\n",
       "Biweekly Low Rate     0\n",
       "Union Code            0\n",
       "Extended Step         0\n",
       "Pay Type              0\n",
       "dtype: int64"
      ]
     },
     "execution_count": 6,
     "metadata": {},
     "output_type": "execute_result"
    }
   ],
   "source": [
    "# another method to check for missing values\n",
    "salary_ranges.isnull().sum()"
   ]
  },
  {
   "cell_type": "code",
   "execution_count": 7,
   "metadata": {
    "scrolled": true
   },
   "outputs": [
    {
     "data": {
      "text/html": [
       "<div>\n",
       "<style scoped>\n",
       "    .dataframe tbody tr th:only-of-type {\n",
       "        vertical-align: middle;\n",
       "    }\n",
       "\n",
       "    .dataframe tbody tr th {\n",
       "        vertical-align: top;\n",
       "    }\n",
       "\n",
       "    .dataframe thead th {\n",
       "        text-align: right;\n",
       "    }\n",
       "</style>\n",
       "<table border=\"1\" class=\"dataframe\">\n",
       "  <thead>\n",
       "    <tr style=\"text-align: right;\">\n",
       "      <th></th>\n",
       "      <th>SetID</th>\n",
       "      <th>Job Code</th>\n",
       "      <th>Eff Date</th>\n",
       "      <th>Sal End Date</th>\n",
       "      <th>Salary SetID</th>\n",
       "      <th>Sal Plan</th>\n",
       "      <th>Grade</th>\n",
       "      <th>Step</th>\n",
       "      <th>Biweekly High Rate</th>\n",
       "      <th>Biweekly Low Rate</th>\n",
       "      <th>Union Code</th>\n",
       "      <th>Extended Step</th>\n",
       "      <th>Pay Type</th>\n",
       "    </tr>\n",
       "  </thead>\n",
       "  <tbody>\n",
       "    <tr>\n",
       "      <th>0</th>\n",
       "      <td>COMMN</td>\n",
       "      <td>0109</td>\n",
       "      <td>07/01/2009 12:00:00 AM</td>\n",
       "      <td>06/30/2010 12:00:00 AM</td>\n",
       "      <td>COMMN</td>\n",
       "      <td>SFM</td>\n",
       "      <td>00000</td>\n",
       "      <td>1</td>\n",
       "      <td>$0.00</td>\n",
       "      <td>$0.00</td>\n",
       "      <td>330</td>\n",
       "      <td>0</td>\n",
       "      <td>C</td>\n",
       "    </tr>\n",
       "    <tr>\n",
       "      <th>1</th>\n",
       "      <td>COMMN</td>\n",
       "      <td>0110</td>\n",
       "      <td>07/01/2009 12:00:00 AM</td>\n",
       "      <td>06/30/2010 12:00:00 AM</td>\n",
       "      <td>COMMN</td>\n",
       "      <td>SFM</td>\n",
       "      <td>00000</td>\n",
       "      <td>1</td>\n",
       "      <td>$15.00</td>\n",
       "      <td>$15.00</td>\n",
       "      <td>323</td>\n",
       "      <td>0</td>\n",
       "      <td>D</td>\n",
       "    </tr>\n",
       "    <tr>\n",
       "      <th>2</th>\n",
       "      <td>COMMN</td>\n",
       "      <td>0111</td>\n",
       "      <td>07/01/2009 12:00:00 AM</td>\n",
       "      <td>06/30/2010 12:00:00 AM</td>\n",
       "      <td>COMMN</td>\n",
       "      <td>SFM</td>\n",
       "      <td>00000</td>\n",
       "      <td>1</td>\n",
       "      <td>$25.00</td>\n",
       "      <td>$25.00</td>\n",
       "      <td>323</td>\n",
       "      <td>0</td>\n",
       "      <td>D</td>\n",
       "    </tr>\n",
       "    <tr>\n",
       "      <th>3</th>\n",
       "      <td>COMMN</td>\n",
       "      <td>0112</td>\n",
       "      <td>07/01/2009 12:00:00 AM</td>\n",
       "      <td>06/30/2010 12:00:00 AM</td>\n",
       "      <td>COMMN</td>\n",
       "      <td>SFM</td>\n",
       "      <td>00000</td>\n",
       "      <td>1</td>\n",
       "      <td>$50.00</td>\n",
       "      <td>$50.00</td>\n",
       "      <td>323</td>\n",
       "      <td>0</td>\n",
       "      <td>D</td>\n",
       "    </tr>\n",
       "    <tr>\n",
       "      <th>4</th>\n",
       "      <td>COMMN</td>\n",
       "      <td>0114</td>\n",
       "      <td>07/01/2009 12:00:00 AM</td>\n",
       "      <td>06/30/2010 12:00:00 AM</td>\n",
       "      <td>COMMN</td>\n",
       "      <td>SFM</td>\n",
       "      <td>00000</td>\n",
       "      <td>1</td>\n",
       "      <td>$100.00</td>\n",
       "      <td>$100.00</td>\n",
       "      <td>323</td>\n",
       "      <td>0</td>\n",
       "      <td>M</td>\n",
       "    </tr>\n",
       "    <tr>\n",
       "      <th>...</th>\n",
       "      <td>...</td>\n",
       "      <td>...</td>\n",
       "      <td>...</td>\n",
       "      <td>...</td>\n",
       "      <td>...</td>\n",
       "      <td>...</td>\n",
       "      <td>...</td>\n",
       "      <td>...</td>\n",
       "      <td>...</td>\n",
       "      <td>...</td>\n",
       "      <td>...</td>\n",
       "      <td>...</td>\n",
       "      <td>...</td>\n",
       "    </tr>\n",
       "    <tr>\n",
       "      <th>1351</th>\n",
       "      <td>COMMN</td>\n",
       "      <td>7412</td>\n",
       "      <td>05/15/2010 12:00:00 AM</td>\n",
       "      <td>06/30/2010 12:00:00 AM</td>\n",
       "      <td>COMMN</td>\n",
       "      <td>SFM</td>\n",
       "      <td>06470</td>\n",
       "      <td>1</td>\n",
       "      <td>$2145.00</td>\n",
       "      <td>$2607.00</td>\n",
       "      <td>200</td>\n",
       "      <td>0</td>\n",
       "      <td>B</td>\n",
       "    </tr>\n",
       "    <tr>\n",
       "      <th>1352</th>\n",
       "      <td>COMMN</td>\n",
       "      <td>8126</td>\n",
       "      <td>05/15/2010 12:00:00 AM</td>\n",
       "      <td>06/30/2010 12:00:00 AM</td>\n",
       "      <td>COMMN</td>\n",
       "      <td>SFM</td>\n",
       "      <td>07185</td>\n",
       "      <td>1</td>\n",
       "      <td>$3041.00</td>\n",
       "      <td>$3696.00</td>\n",
       "      <td>200</td>\n",
       "      <td>0</td>\n",
       "      <td>B</td>\n",
       "    </tr>\n",
       "    <tr>\n",
       "      <th>1353</th>\n",
       "      <td>COMMN</td>\n",
       "      <td>9155</td>\n",
       "      <td>05/15/2010 12:00:00 AM</td>\n",
       "      <td>06/30/2010 12:00:00 AM</td>\n",
       "      <td>COMMN</td>\n",
       "      <td>SFM</td>\n",
       "      <td>07245</td>\n",
       "      <td>1</td>\n",
       "      <td>$3132.00</td>\n",
       "      <td>$3807.00</td>\n",
       "      <td>200</td>\n",
       "      <td>0</td>\n",
       "      <td>B</td>\n",
       "    </tr>\n",
       "    <tr>\n",
       "      <th>1354</th>\n",
       "      <td>COMMN</td>\n",
       "      <td>9156</td>\n",
       "      <td>05/15/2010 12:00:00 AM</td>\n",
       "      <td>06/30/2010 12:00:00 AM</td>\n",
       "      <td>COMMN</td>\n",
       "      <td>SFM</td>\n",
       "      <td>07445</td>\n",
       "      <td>1</td>\n",
       "      <td>$3453.00</td>\n",
       "      <td>$4197.00</td>\n",
       "      <td>200</td>\n",
       "      <td>0</td>\n",
       "      <td>B</td>\n",
       "    </tr>\n",
       "    <tr>\n",
       "      <th>1355</th>\n",
       "      <td>COMMN</td>\n",
       "      <td>9157</td>\n",
       "      <td>05/15/2010 12:00:00 AM</td>\n",
       "      <td>06/30/2010 12:00:00 AM</td>\n",
       "      <td>COMMN</td>\n",
       "      <td>SFM</td>\n",
       "      <td>07445</td>\n",
       "      <td>1</td>\n",
       "      <td>$3453.00</td>\n",
       "      <td>$4197.00</td>\n",
       "      <td>200</td>\n",
       "      <td>0</td>\n",
       "      <td>B</td>\n",
       "    </tr>\n",
       "  </tbody>\n",
       "</table>\n",
       "<p>1356 rows × 13 columns</p>\n",
       "</div>"
      ],
      "text/plain": [
       "      SetID Job Code                Eff Date            Sal End Date  \\\n",
       "0     COMMN     0109  07/01/2009 12:00:00 AM  06/30/2010 12:00:00 AM   \n",
       "1     COMMN     0110  07/01/2009 12:00:00 AM  06/30/2010 12:00:00 AM   \n",
       "2     COMMN     0111  07/01/2009 12:00:00 AM  06/30/2010 12:00:00 AM   \n",
       "3     COMMN     0112  07/01/2009 12:00:00 AM  06/30/2010 12:00:00 AM   \n",
       "4     COMMN     0114  07/01/2009 12:00:00 AM  06/30/2010 12:00:00 AM   \n",
       "...     ...      ...                     ...                     ...   \n",
       "1351  COMMN     7412  05/15/2010 12:00:00 AM  06/30/2010 12:00:00 AM   \n",
       "1352  COMMN     8126  05/15/2010 12:00:00 AM  06/30/2010 12:00:00 AM   \n",
       "1353  COMMN     9155  05/15/2010 12:00:00 AM  06/30/2010 12:00:00 AM   \n",
       "1354  COMMN     9156  05/15/2010 12:00:00 AM  06/30/2010 12:00:00 AM   \n",
       "1355  COMMN     9157  05/15/2010 12:00:00 AM  06/30/2010 12:00:00 AM   \n",
       "\n",
       "     Salary SetID Sal Plan  Grade  Step Biweekly High Rate Biweekly Low Rate  \\\n",
       "0           COMMN      SFM  00000     1              $0.00             $0.00   \n",
       "1           COMMN      SFM  00000     1             $15.00            $15.00   \n",
       "2           COMMN      SFM  00000     1             $25.00            $25.00   \n",
       "3           COMMN      SFM  00000     1             $50.00            $50.00   \n",
       "4           COMMN      SFM  00000     1            $100.00           $100.00   \n",
       "...           ...      ...    ...   ...                ...               ...   \n",
       "1351        COMMN      SFM  06470     1           $2145.00          $2607.00   \n",
       "1352        COMMN      SFM  07185     1           $3041.00          $3696.00   \n",
       "1353        COMMN      SFM  07245     1           $3132.00          $3807.00   \n",
       "1354        COMMN      SFM  07445     1           $3453.00          $4197.00   \n",
       "1355        COMMN      SFM  07445     1           $3453.00          $4197.00   \n",
       "\n",
       "      Union Code  Extended Step Pay Type  \n",
       "0            330              0        C  \n",
       "1            323              0        D  \n",
       "2            323              0        D  \n",
       "3            323              0        D  \n",
       "4            323              0        M  \n",
       "...          ...            ...      ...  \n",
       "1351         200              0        B  \n",
       "1352         200              0        B  \n",
       "1353         200              0        B  \n",
       "1354         200              0        B  \n",
       "1355         200              0        B  \n",
       "\n",
       "[1356 rows x 13 columns]"
      ]
     },
     "execution_count": 7,
     "metadata": {},
     "output_type": "execute_result"
    }
   ],
   "source": [
    "salary_ranges"
   ]
  },
  {
   "cell_type": "code",
   "execution_count": 8,
   "metadata": {},
   "outputs": [
    {
     "data": {
      "text/plain": [
       "00000    61\n",
       "07450    12\n",
       "06870     9\n",
       "07420     9\n",
       "07170     9\n",
       "Name: Grade, dtype: int64"
      ]
     },
     "execution_count": 8,
     "metadata": {},
     "output_type": "execute_result"
    }
   ],
   "source": [
    "# Basic Value Counts of the Grade column\n",
    "salary_ranges['Grade'].value_counts().head()"
   ]
  },
  {
   "cell_type": "code",
   "execution_count": 9,
   "metadata": {},
   "outputs": [
    {
     "data": {
      "text/plain": [
       "<AxesSubplot:>"
      ]
     },
     "execution_count": 9,
     "metadata": {},
     "output_type": "execute_result"
    },
    {
     "data": {
      "image/png": "[encoded data removed]",
      "text/plain": [
       "<Figure size 432x288 with 1 Axes>"
      ]
     },
     "metadata": {},
     "output_type": "display_data"
    }
   ],
   "source": [
    "# Bar Chart of the Grade column\n",
    "salary_ranges['Grade'].value_counts().sort_values(ascending=False).head(20).plot(kind='bar')"
   ]
  },
  {
   "cell_type": "code",
   "execution_count": 10,
   "metadata": {},
   "outputs": [
    {
     "data": {
      "text/plain": [
       "<AxesSubplot:ylabel='Grade'>"
      ]
     },
     "execution_count": 10,
     "metadata": {},
     "output_type": "execute_result"
    },
    {
     "data": {
      "image/png": "[encoded data removed]",
      "text/plain": [
       "<Figure size 432x288 with 1 Axes>"
      ]
     },
     "metadata": {},
     "output_type": "display_data"
    }
   ],
   "source": [
    "# Bar Chart of the Grade column as a pie chart (top 5 values only)\n",
    "salary_ranges['Grade'].value_counts().sort_values(ascending=False).head(10).plot(kind='pie')"
   ]
  },
  {
   "cell_type": "code",
   "execution_count": 11,
   "metadata": {},
   "outputs": [
    {
     "data": {
      "text/plain": [
       "<AxesSubplot:>"
      ]
     },
     "execution_count": 11,
     "metadata": {},
     "output_type": "execute_result"
    },
    {
     "data": {
      "image/png": "[encoded data removed]",
      "text/plain": [
       "<Figure size 432x288 with 1 Axes>"
      ]
     },
     "metadata": {},
     "output_type": "display_data"
    }
   ],
   "source": [
    "salary_ranges['Extended Step'].value_counts().plot(kind='bar')"
   ]
  },
  {
   "cell_type": "code",
   "execution_count": 12,
   "metadata": {},
   "outputs": [
    {
     "data": {
      "text/html": [
       "<div>\n",
       "<style scoped>\n",
       "    .dataframe tbody tr th:only-of-type {\n",
       "        vertical-align: middle;\n",
       "    }\n",
       "\n",
       "    .dataframe tbody tr th {\n",
       "        vertical-align: top;\n",
       "    }\n",
       "\n",
       "    .dataframe thead th {\n",
       "        text-align: right;\n",
       "    }\n",
       "</style>\n",
       "<table border=\"1\" class=\"dataframe\">\n",
       "  <thead>\n",
       "    <tr style=\"text-align: right;\">\n",
       "      <th></th>\n",
       "      <th>Step</th>\n",
       "      <th>Union Code</th>\n",
       "      <th>Extended Step</th>\n",
       "    </tr>\n",
       "  </thead>\n",
       "  <tbody>\n",
       "    <tr>\n",
       "      <th>count</th>\n",
       "      <td>1356.000000</td>\n",
       "      <td>1356.000000</td>\n",
       "      <td>1356.000000</td>\n",
       "    </tr>\n",
       "    <tr>\n",
       "      <th>mean</th>\n",
       "      <td>1.294985</td>\n",
       "      <td>392.676991</td>\n",
       "      <td>0.150442</td>\n",
       "    </tr>\n",
       "    <tr>\n",
       "      <th>std</th>\n",
       "      <td>1.045816</td>\n",
       "      <td>338.100562</td>\n",
       "      <td>1.006734</td>\n",
       "    </tr>\n",
       "    <tr>\n",
       "      <th>min</th>\n",
       "      <td>1.000000</td>\n",
       "      <td>1.000000</td>\n",
       "      <td>0.000000</td>\n",
       "    </tr>\n",
       "    <tr>\n",
       "      <th>25%</th>\n",
       "      <td>1.000000</td>\n",
       "      <td>21.000000</td>\n",
       "      <td>0.000000</td>\n",
       "    </tr>\n",
       "    <tr>\n",
       "      <th>50%</th>\n",
       "      <td>1.000000</td>\n",
       "      <td>351.000000</td>\n",
       "      <td>0.000000</td>\n",
       "    </tr>\n",
       "    <tr>\n",
       "      <th>75%</th>\n",
       "      <td>1.000000</td>\n",
       "      <td>790.000000</td>\n",
       "      <td>0.000000</td>\n",
       "    </tr>\n",
       "    <tr>\n",
       "      <th>max</th>\n",
       "      <td>5.000000</td>\n",
       "      <td>990.000000</td>\n",
       "      <td>11.000000</td>\n",
       "    </tr>\n",
       "  </tbody>\n",
       "</table>\n",
       "</div>"
      ],
      "text/plain": [
       "              Step   Union Code  Extended Step\n",
       "count  1356.000000  1356.000000    1356.000000\n",
       "mean      1.294985   392.676991       0.150442\n",
       "std       1.045816   338.100562       1.006734\n",
       "min       1.000000     1.000000       0.000000\n",
       "25%       1.000000    21.000000       0.000000\n",
       "50%       1.000000   351.000000       0.000000\n",
       "75%       1.000000   790.000000       0.000000\n",
       "max       5.000000   990.000000      11.000000"
      ]
     },
     "execution_count": 12,
     "metadata": {},
     "output_type": "execute_result"
    }
   ],
   "source": [
    "# show descriptive stats:\n",
    "salary_ranges.describe()"
   ]
  },
  {
   "cell_type": "code",
   "execution_count": 13,
   "metadata": {},
   "outputs": [
    {
     "data": {
      "text/html": [
       "<div>\n",
       "<style scoped>\n",
       "    .dataframe tbody tr th:only-of-type {\n",
       "        vertical-align: middle;\n",
       "    }\n",
       "\n",
       "    .dataframe tbody tr th {\n",
       "        vertical-align: top;\n",
       "    }\n",
       "\n",
       "    .dataframe thead th {\n",
       "        text-align: right;\n",
       "    }\n",
       "</style>\n",
       "<table border=\"1\" class=\"dataframe\">\n",
       "  <thead>\n",
       "    <tr style=\"text-align: right;\">\n",
       "      <th></th>\n",
       "      <th>Biweekly High Rate</th>\n",
       "      <th>Grade</th>\n",
       "    </tr>\n",
       "  </thead>\n",
       "  <tbody>\n",
       "    <tr>\n",
       "      <th>0</th>\n",
       "      <td>$0.00</td>\n",
       "      <td>00000</td>\n",
       "    </tr>\n",
       "    <tr>\n",
       "      <th>1</th>\n",
       "      <td>$15.00</td>\n",
       "      <td>00000</td>\n",
       "    </tr>\n",
       "    <tr>\n",
       "      <th>2</th>\n",
       "      <td>$25.00</td>\n",
       "      <td>00000</td>\n",
       "    </tr>\n",
       "    <tr>\n",
       "      <th>3</th>\n",
       "      <td>$50.00</td>\n",
       "      <td>00000</td>\n",
       "    </tr>\n",
       "    <tr>\n",
       "      <th>4</th>\n",
       "      <td>$100.00</td>\n",
       "      <td>00000</td>\n",
       "    </tr>\n",
       "  </tbody>\n",
       "</table>\n",
       "</div>"
      ],
      "text/plain": [
       "  Biweekly High Rate  Grade\n",
       "0              $0.00  00000\n",
       "1             $15.00  00000\n",
       "2             $25.00  00000\n",
       "3             $50.00  00000\n",
       "4            $100.00  00000"
      ]
     },
     "execution_count": 13,
     "metadata": {},
     "output_type": "execute_result"
    }
   ],
   "source": [
    "salary_ranges = salary_ranges[['Biweekly High Rate', 'Grade']]\n",
    "\n",
    "salary_ranges.head(5)"
   ]
  },
  {
   "cell_type": "code",
   "execution_count": null,
   "metadata": {},
   "outputs": [],
   "source": []
  },
  {
   "cell_type": "code",
   "execution_count": 14,
   "metadata": {},
   "outputs": [
    {
     "data": {
      "text/plain": [
       "count         1356\n",
       "unique         593\n",
       "top       $3460.00\n",
       "freq            12\n",
       "Name: Biweekly High Rate, dtype: object"
      ]
     },
     "execution_count": 14,
     "metadata": {},
     "output_type": "execute_result"
    }
   ],
   "source": [
    "# Rate has dollar signs in a few of them, we need to clean that up..\n",
    "salary_ranges['Biweekly High Rate'].describe()"
   ]
  },
  {
   "cell_type": "code",
   "execution_count": 15,
   "metadata": {},
   "outputs": [
    {
     "data": {
      "text/plain": [
       "0          0.00\n",
       "1         15.00\n",
       "2         25.00\n",
       "3         50.00\n",
       "4        100.00\n",
       "         ...   \n",
       "1351    2145.00\n",
       "1352    3041.00\n",
       "1353    3132.00\n",
       "1354    3453.00\n",
       "1355    3453.00\n",
       "Name: Biweekly High Rate, Length: 1356, dtype: object"
      ]
     },
     "execution_count": 15,
     "metadata": {},
     "output_type": "execute_result"
    }
   ],
   "source": [
    "salary_ranges['Biweekly High Rate'].map(lambda value: value.replace('$',''))"
   ]
  },
  {
   "cell_type": "code",
   "execution_count": 16,
   "metadata": {},
   "outputs": [
    {
     "data": {
      "text/plain": [
       "0          0.00\n",
       "1         15.00\n",
       "2         25.00\n",
       "3         50.00\n",
       "4        100.00\n",
       "         ...   \n",
       "1351    2145.00\n",
       "1352    3041.00\n",
       "1353    3132.00\n",
       "1354    3453.00\n",
       "1355    3453.00\n",
       "Name: Biweekly High Rate, Length: 1356, dtype: object"
      ]
     },
     "execution_count": 16,
     "metadata": {},
     "output_type": "execute_result"
    }
   ],
   "source": [
    "salary_ranges['Biweekly High Rate'].apply(lambda value: value.replace('$',''))"
   ]
  },
  {
   "cell_type": "code",
   "execution_count": 17,
   "metadata": {},
   "outputs": [
    {
     "name": "stderr",
     "output_type": "stream",
     "text": [
      "C:\\Users\\user\\AppData\\Local\\Temp/ipykernel_11820/1133670070.py:2: SettingWithCopyWarning: \n",
      "A value is trying to be set on a copy of a slice from a DataFrame.\n",
      "Try using .loc[row_indexer,col_indexer] = value instead\n",
      "\n",
      "See the caveats in the documentation: https://pandas.pydata.org/pandas-docs/stable/user_guide/indexing.html#returning-a-view-versus-a-copy\n",
      "  salary_ranges['Biweekly High Rate'] = salary_ranges['Biweekly High Rate'].map(lambda value: value.replace('$',''))\n"
     ]
    }
   ],
   "source": [
    "# need to clean our Biweekly High columns to remove the dollar sign in order to visualize\n",
    "salary_ranges['Biweekly High Rate'] = salary_ranges['Biweekly High Rate'].map(lambda value: value.replace('$',''))"
   ]
  },
  {
   "cell_type": "code",
   "execution_count": 18,
   "metadata": {},
   "outputs": [
    {
     "data": {
      "text/html": [
       "<div>\n",
       "<style scoped>\n",
       "    .dataframe tbody tr th:only-of-type {\n",
       "        vertical-align: middle;\n",
       "    }\n",
       "\n",
       "    .dataframe tbody tr th {\n",
       "        vertical-align: top;\n",
       "    }\n",
       "\n",
       "    .dataframe thead th {\n",
       "        text-align: right;\n",
       "    }\n",
       "</style>\n",
       "<table border=\"1\" class=\"dataframe\">\n",
       "  <thead>\n",
       "    <tr style=\"text-align: right;\">\n",
       "      <th></th>\n",
       "      <th>Biweekly High Rate</th>\n",
       "      <th>Grade</th>\n",
       "    </tr>\n",
       "  </thead>\n",
       "  <tbody>\n",
       "    <tr>\n",
       "      <th>0</th>\n",
       "      <td>0.00</td>\n",
       "      <td>00000</td>\n",
       "    </tr>\n",
       "    <tr>\n",
       "      <th>1</th>\n",
       "      <td>15.00</td>\n",
       "      <td>00000</td>\n",
       "    </tr>\n",
       "    <tr>\n",
       "      <th>2</th>\n",
       "      <td>25.00</td>\n",
       "      <td>00000</td>\n",
       "    </tr>\n",
       "    <tr>\n",
       "      <th>3</th>\n",
       "      <td>50.00</td>\n",
       "      <td>00000</td>\n",
       "    </tr>\n",
       "    <tr>\n",
       "      <th>4</th>\n",
       "      <td>100.00</td>\n",
       "      <td>00000</td>\n",
       "    </tr>\n",
       "  </tbody>\n",
       "</table>\n",
       "</div>"
      ],
      "text/plain": [
       "  Biweekly High Rate  Grade\n",
       "0               0.00  00000\n",
       "1              15.00  00000\n",
       "2              25.00  00000\n",
       "3              50.00  00000\n",
       "4             100.00  00000"
      ]
     },
     "execution_count": 18,
     "metadata": {},
     "output_type": "execute_result"
    }
   ],
   "source": [
    "# Check to see the '$' has been removed\n",
    "salary_ranges.head()"
   ]
  },
  {
   "cell_type": "code",
   "execution_count": 19,
   "metadata": {
    "scrolled": true
   },
   "outputs": [
    {
     "name": "stderr",
     "output_type": "stream",
     "text": [
      "C:\\Users\\user\\AppData\\Local\\Temp/ipykernel_11820/2489328889.py:2: SettingWithCopyWarning: \n",
      "A value is trying to be set on a copy of a slice from a DataFrame.\n",
      "Try using .loc[row_indexer,col_indexer] = value instead\n",
      "\n",
      "See the caveats in the documentation: https://pandas.pydata.org/pandas-docs/stable/user_guide/indexing.html#returning-a-view-versus-a-copy\n",
      "  salary_ranges['Biweekly High Rate'] = salary_ranges['Biweekly High Rate'].astype(float)\n"
     ]
    }
   ],
   "source": [
    "# Convert the Biweeky columns to float\n",
    "salary_ranges['Biweekly High Rate'] = salary_ranges['Biweekly High Rate'].astype(float)"
   ]
  },
  {
   "cell_type": "code",
   "execution_count": 20,
   "metadata": {},
   "outputs": [
    {
     "name": "stderr",
     "output_type": "stream",
     "text": [
      "C:\\Users\\user\\AppData\\Local\\Temp/ipykernel_11820/1747352195.py:2: SettingWithCopyWarning: \n",
      "A value is trying to be set on a copy of a slice from a DataFrame.\n",
      "Try using .loc[row_indexer,col_indexer] = value instead\n",
      "\n",
      "See the caveats in the documentation: https://pandas.pydata.org/pandas-docs/stable/user_guide/indexing.html#returning-a-view-versus-a-copy\n",
      "  salary_ranges['Grade'] = salary_ranges['Grade'].astype(str)\n"
     ]
    }
   ],
   "source": [
    "# Convert the Grade columns to str\n",
    "salary_ranges['Grade'] = salary_ranges['Grade'].astype(str)"
   ]
  },
  {
   "cell_type": "code",
   "execution_count": 21,
   "metadata": {},
   "outputs": [
    {
     "name": "stdout",
     "output_type": "stream",
     "text": [
      "<class 'pandas.core.frame.DataFrame'>\n",
      "RangeIndex: 1356 entries, 0 to 1355\n",
      "Data columns (total 2 columns):\n",
      " #   Column              Non-Null Count  Dtype  \n",
      "---  ------              --------------  -----  \n",
      " 0   Biweekly High Rate  1356 non-null   float64\n",
      " 1   Grade               1356 non-null   object \n",
      "dtypes: float64(1), object(1)\n",
      "memory usage: 21.3+ KB\n"
     ]
    }
   ],
   "source": [
    "# check to see if converting the data types worked\n",
    "salary_ranges.info()"
   ]
  },
  {
   "cell_type": "code",
   "execution_count": 22,
   "metadata": {},
   "outputs": [
    {
     "data": {
      "text/html": [
       "<div>\n",
       "<style scoped>\n",
       "    .dataframe tbody tr th:only-of-type {\n",
       "        vertical-align: middle;\n",
       "    }\n",
       "\n",
       "    .dataframe tbody tr th {\n",
       "        vertical-align: top;\n",
       "    }\n",
       "\n",
       "    .dataframe thead th {\n",
       "        text-align: right;\n",
       "    }\n",
       "</style>\n",
       "<table border=\"1\" class=\"dataframe\">\n",
       "  <thead>\n",
       "    <tr style=\"text-align: right;\">\n",
       "      <th></th>\n",
       "      <th>Biweekly High Rate</th>\n",
       "    </tr>\n",
       "  </thead>\n",
       "  <tbody>\n",
       "    <tr>\n",
       "      <th>count</th>\n",
       "      <td>1356.000000</td>\n",
       "    </tr>\n",
       "    <tr>\n",
       "      <th>mean</th>\n",
       "      <td>3161.727021</td>\n",
       "    </tr>\n",
       "    <tr>\n",
       "      <th>std</th>\n",
       "      <td>1481.002904</td>\n",
       "    </tr>\n",
       "    <tr>\n",
       "      <th>min</th>\n",
       "      <td>0.000000</td>\n",
       "    </tr>\n",
       "    <tr>\n",
       "      <th>25%</th>\n",
       "      <td>2145.000000</td>\n",
       "    </tr>\n",
       "    <tr>\n",
       "      <th>50%</th>\n",
       "      <td>2856.500000</td>\n",
       "    </tr>\n",
       "    <tr>\n",
       "      <th>75%</th>\n",
       "      <td>3703.000000</td>\n",
       "    </tr>\n",
       "    <tr>\n",
       "      <th>max</th>\n",
       "      <td>12120.770000</td>\n",
       "    </tr>\n",
       "  </tbody>\n",
       "</table>\n",
       "</div>"
      ],
      "text/plain": [
       "       Biweekly High Rate\n",
       "count         1356.000000\n",
       "mean          3161.727021\n",
       "std           1481.002904\n",
       "min              0.000000\n",
       "25%           2145.000000\n",
       "50%           2856.500000\n",
       "75%           3703.000000\n",
       "max          12120.770000"
      ]
     },
     "execution_count": 22,
     "metadata": {},
     "output_type": "execute_result"
    }
   ],
   "source": [
    "salary_ranges.describe()"
   ]
  },
  {
   "cell_type": "code",
   "execution_count": 23,
   "metadata": {},
   "outputs": [],
   "source": [
    "# Which Grade has the highest Biweekly high rate\n",
    "# What is the average rate across all of the Grades"
   ]
  },
  {
   "cell_type": "code",
   "execution_count": 24,
   "metadata": {
    "scrolled": true
   },
   "outputs": [
    {
     "data": {
      "text/plain": [
       "Text(0.5, 1.0, 'Top 20 Grade by Mean Biweekly High Rate')"
      ]
     },
     "execution_count": 24,
     "metadata": {},
     "output_type": "execute_result"
    },
    {
     "data": {
      "image/png": "[encoded data removed]",
      "text/plain": [
       "<Figure size 1728x1728 with 1 Axes>"
      ]
     },
     "metadata": {},
     "output_type": "display_data"
    }
   ],
   "source": [
    "# Highest Salary\n",
    "fig, ax = plt.subplots(figsize=(24,24))\n",
    "salary_ranges.groupby('Grade')[['Biweekly High Rate']].mean().sort_values(\n",
    "    'Biweekly High Rate', ascending=False).head(20).plot.bar(stacked=False, ax=ax, color='darkorange')\n",
    "ax.set_title('Top 20 Grade by Mean Biweekly High Rate')"
   ]
  },
  {
   "cell_type": "code",
   "execution_count": 25,
   "metadata": {
    "scrolled": false
   },
   "outputs": [
    {
     "data": {
      "text/plain": [
       "Text(0.5, 1.0, 'Top 20 Grade by Mean Biweekly High Rate')"
      ]
     },
     "execution_count": 25,
     "metadata": {},
     "output_type": "execute_result"
    },
    {
     "data": {
      "image/png": "[encoded data removed]",
      "text/plain": [
       "<Figure size 1080x360 with 1 Axes>"
      ]
     },
     "metadata": {},
     "output_type": "display_data"
    }
   ],
   "source": [
    "# Which Grade has the highest Biweekly high rate\n",
    "# What is the average rate across all of the Grades\n",
    "\n",
    "fig = plt.figure(figsize=(15,5))\n",
    "ax = fig.gca()\n",
    "\n",
    "salary_ranges.groupby('Grade')[['Biweekly High Rate']].mean().sort_values(\n",
    "    'Biweekly High Rate', ascending=False).head(20).plot.bar(stacked=False, ax=ax, color='darkorange')\n",
    "ax.set_title('Top 20 Grade by Mean Biweekly High Rate')"
   ]
  },
  {
   "cell_type": "code",
   "execution_count": null,
   "metadata": {},
   "outputs": [],
   "source": []
  },
  {
   "cell_type": "code",
   "execution_count": 26,
   "metadata": {},
   "outputs": [
    {
     "data": {
      "text/plain": [
       "Text(0.5, 1.0, 'Bottom 20 Grade by Mean Biweekly High Rate')"
      ]
     },
     "execution_count": 26,
     "metadata": {},
     "output_type": "execute_result"
    },
    {
     "data": {
      "image/png": "[encoded data removed]",
      "text/plain": [
       "<Figure size 1080x360 with 1 Axes>"
      ]
     },
     "metadata": {},
     "output_type": "display_data"
    }
   ],
   "source": [
    "# Which Grade has the lowest Biweekly high rate\n",
    "\n",
    "fig = plt.figure(figsize=(15,5))\n",
    "ax = fig.gca()\n",
    "\n",
    "salary_ranges.groupby('Grade')[['Biweekly High Rate']].mean().sort_values(\n",
    "    'Biweekly High Rate', ascending=False).tail(20).plot.bar(stacked=False, ax=ax, color='darkorange')\n",
    "ax.set_title('Bottom 20 Grade by Mean Biweekly High Rate')"
   ]
  },
  {
   "cell_type": "code",
   "execution_count": 27,
   "metadata": {},
   "outputs": [
    {
     "data": {
      "text/plain": [
       "13.931919540229886"
      ]
     },
     "execution_count": 27,
     "metadata": {},
     "output_type": "execute_result"
    }
   ],
   "source": [
    "sorted_df = salary_ranges.groupby('Grade')[['Biweekly High Rate']].mean().sort_values(\n",
    "    'Biweekly High Rate', ascending=False)\n",
    "sorted_df.iloc[0][0] / sorted_df.iloc[-1][0]"
   ]
  },
  {
   "cell_type": "code",
   "execution_count": null,
   "metadata": {},
   "outputs": [],
   "source": []
  },
  {
   "cell_type": "markdown",
   "metadata": {
    "collapsed": true
   },
   "source": [
    "# Further plotting: \n",
    "\n",
    "Only using Biweekly High rate since they are the same as Low rate"
   ]
  },
  {
   "cell_type": "markdown",
   "metadata": {},
   "source": [
    "# SFO Customer Survey Dataset:"
   ]
  },
  {
   "cell_type": "code",
   "execution_count": 30,
   "metadata": {
    "scrolled": true
   },
   "outputs": [],
   "source": [
    "# load in the data set\n",
    "customer = pd.read_csv('../data/2013_SFO_Customer_survey.csv')"
   ]
  },
  {
   "cell_type": "code",
   "execution_count": 31,
   "metadata": {
    "scrolled": true
   },
   "outputs": [
    {
     "name": "stdout",
     "output_type": "stream",
     "text": [
      "<class 'pandas.core.frame.DataFrame'>\n",
      "RangeIndex: 3535 entries, 0 to 3534\n",
      "Data columns (total 95 columns):\n",
      " #   Column           Non-Null Count  Dtype  \n",
      "---  ------           --------------  -----  \n",
      " 0   RESPNUM          3535 non-null   int64  \n",
      " 1   CCGID            3535 non-null   object \n",
      " 2   RUN              3535 non-null   int64  \n",
      " 3   INTDATE          3535 non-null   int64  \n",
      " 4   GATE             3535 non-null   int64  \n",
      " 5   STRATA           3535 non-null   int64  \n",
      " 6   PEAK             3535 non-null   int64  \n",
      " 7   METHOD           3535 non-null   int64  \n",
      " 8   AIRLINE          3535 non-null   int64  \n",
      " 9   FLIGHT           3535 non-null   int64  \n",
      " 10  DEST             3535 non-null   int64  \n",
      " 11  DESTGEO          3535 non-null   int64  \n",
      " 12  DESTMARK         3535 non-null   int64  \n",
      " 13  ARRTIME          3535 non-null   object \n",
      " 14  DEPTIME          3535 non-null   object \n",
      " 15  Q2PURP1          3535 non-null   int64  \n",
      " 16  Q2PURP2          3459 non-null   float64\n",
      " 17  Q2PURP3          163 non-null    float64\n",
      " 18  Q2PURP4          17 non-null     float64\n",
      " 19  Q2PURP5          2 non-null      float64\n",
      " 20  Q2PURP6          0 non-null      float64\n",
      " 21  Q3GETTO1         3535 non-null   int64  \n",
      " 22  Q3GETTO2         3505 non-null   float64\n",
      " 23  Q3GETTO3         17 non-null     float64\n",
      " 24  Q3GETTO4         1 non-null      float64\n",
      " 25  Q3GETTO5         0 non-null      float64\n",
      " 26  Q3GETTO6         0 non-null      float64\n",
      " 27  Q3PARK           284 non-null    float64\n",
      " 28  Q4BAGS           3535 non-null   int64  \n",
      " 29  Q4BUY            3535 non-null   int64  \n",
      " 30  Q4FOOD           3535 non-null   int64  \n",
      " 31  Q4WIFI           3535 non-null   int64  \n",
      " 32  Q5FLYPERYR       3535 non-null   int64  \n",
      " 33  Q6TENURE         3535 non-null   float64\n",
      " 34  SAQ              3535 non-null   int64  \n",
      " 35  Q7A_ART          3535 non-null   int64  \n",
      " 36  Q7B_FOOD         3535 non-null   int64  \n",
      " 37  Q7C_SHOPS        3535 non-null   int64  \n",
      " 38  Q7D_SIGNS        3535 non-null   int64  \n",
      " 39  Q7E_WALK         3535 non-null   int64  \n",
      " 40  Q7F_SCREENS      3535 non-null   int64  \n",
      " 41  Q7G_INFOARR      3535 non-null   int64  \n",
      " 42  Q7H_INFODEP      3535 non-null   int64  \n",
      " 43  Q7I_WIFI         3535 non-null   int64  \n",
      " 44  Q7J_ROAD         3535 non-null   int64  \n",
      " 45  Q7K_PARK         3535 non-null   int64  \n",
      " 46  Q7L_AIRTRAIN     3535 non-null   int64  \n",
      " 47  Q7M_LTPARK       3535 non-null   int64  \n",
      " 48  Q7N_RENTAL       3535 non-null   int64  \n",
      " 49  Q7O_WHOLE        3535 non-null   int64  \n",
      " 50  Q8COM1           1495 non-null   float64\n",
      " 51  Q8COM2           308 non-null    float64\n",
      " 52  Q8COM3           59 non-null     float64\n",
      " 53  Q9A_CLNBOARD     3535 non-null   int64  \n",
      " 54  Q9B_CLNAIRTRAIN  3535 non-null   int64  \n",
      " 55  Q9C_CLNRENT      3535 non-null   int64  \n",
      " 56  Q9D_CLNFOOD      3535 non-null   int64  \n",
      " 57  Q9E_CLNBATH      3535 non-null   int64  \n",
      " 58  Q9F_CLNWHOLE     3535 non-null   int64  \n",
      " 59  Q9COM1           180 non-null    float64\n",
      " 60  Q9COM2           4 non-null      float64\n",
      " 61  Q9COM3           4 non-null      float64\n",
      " 62  Q10SAFE          3535 non-null   int64  \n",
      " 63  Q10COM1          1683 non-null   float64\n",
      " 64  Q10COM2          221 non-null    float64\n",
      " 65  Q10COM3          14 non-null     float64\n",
      " 66  Q11A_USEWEB      3535 non-null   int64  \n",
      " 67  Q11B_USESFOAPP   3535 non-null   int64  \n",
      " 68  Q11C_USEOTHAPP   3535 non-null   int64  \n",
      " 69  Q11D_USESOCMED   3535 non-null   int64  \n",
      " 70  Q11E_USEWIFI     3535 non-null   int64  \n",
      " 71  Q12COM1          706 non-null    float64\n",
      " 72  Q12COM2          75 non-null     float64\n",
      " 73  Q12COM3          2 non-null      float64\n",
      " 74  Q13_WHEREDEPART  3535 non-null   int64  \n",
      " 75  Q13_RATEGETTO    3535 non-null   int64  \n",
      " 76  Q14A_FIND        3535 non-null   int64  \n",
      " 77  Q14B_SECURITY    3535 non-null   int64  \n",
      " 78  Q15_PROBLEMS     3535 non-null   int64  \n",
      " 79  Q15COM1          389 non-null    float64\n",
      " 80  Q15COM2          21 non-null     float64\n",
      " 81  Q15COM3          1 non-null      float64\n",
      " 82  Q16_REGION       3535 non-null   int64  \n",
      " 83  Q17_CITY         3234 non-null   object \n",
      " 84  Q17_ZIP          2276 non-null   float64\n",
      " 85  Q17_COUNTRY      3410 non-null   object \n",
      " 86  HOME             3535 non-null   int64  \n",
      " 87  Q18_AGE          3535 non-null   int64  \n",
      " 88  Q19_SEX          3535 non-null   int64  \n",
      " 89  Q20_INCOME       3535 non-null   int64  \n",
      " 90  Q21_HIFLYER      3535 non-null   int64  \n",
      " 91  Q22A_USESJC      3535 non-null   int64  \n",
      " 92  Q22B_USEOAK      3535 non-null   int64  \n",
      " 93  LANG             3535 non-null   int64  \n",
      " 94  WEIGHT           3535 non-null   float64\n",
      "dtypes: float64(29), int64(61), object(5)\n",
      "memory usage: 2.6+ MB\n"
     ]
    }
   ],
   "source": [
    "customer.info()"
   ]
  },
  {
   "cell_type": "code",
   "execution_count": 32,
   "metadata": {},
   "outputs": [
    {
     "data": {
      "text/plain": [
       "(3535, 95)"
      ]
     },
     "execution_count": 32,
     "metadata": {},
     "output_type": "execute_result"
    }
   ],
   "source": [
    "customer.shape"
   ]
  },
  {
   "cell_type": "code",
   "execution_count": 33,
   "metadata": {},
   "outputs": [],
   "source": [
    "art_ratings = customer['Q7A_ART']"
   ]
  },
  {
   "cell_type": "code",
   "execution_count": 34,
   "metadata": {},
   "outputs": [
    {
     "data": {
      "text/plain": [
       "count    3535.000000\n",
       "mean        4.300707\n",
       "std         1.341445\n",
       "min         0.000000\n",
       "25%         3.000000\n",
       "50%         4.000000\n",
       "75%         5.000000\n",
       "max         6.000000\n",
       "Name: Q7A_ART, dtype: float64"
      ]
     },
     "execution_count": 34,
     "metadata": {},
     "output_type": "execute_result"
    }
   ],
   "source": [
    "art_ratings.describe()  # it considers the ratings numerical, so let's cast them as a string because we know that they are ordinal"
   ]
  },
  {
   "cell_type": "code",
   "execution_count": 35,
   "metadata": {},
   "outputs": [],
   "source": [
    "# only consider ratings 1-5\n",
    "art_ratings = art_ratings[(art_ratings >=1) & (art_ratings <=5)]"
   ]
  },
  {
   "cell_type": "code",
   "execution_count": 36,
   "metadata": {},
   "outputs": [],
   "source": [
    "# cast the values as strings\n",
    "art_ratings = art_ratings.astype(str)"
   ]
  },
  {
   "cell_type": "code",
   "execution_count": 37,
   "metadata": {},
   "outputs": [
    {
     "data": {
      "text/plain": [
       "count     2656\n",
       "unique       5\n",
       "top          4\n",
       "freq      1066\n",
       "Name: Q7A_ART, dtype: object"
      ]
     },
     "execution_count": 37,
     "metadata": {},
     "output_type": "execute_result"
    }
   ],
   "source": [
    "art_ratings.describe()"
   ]
  },
  {
   "cell_type": "code",
   "execution_count": 38,
   "metadata": {},
   "outputs": [
    {
     "data": {
      "text/plain": [
       "<AxesSubplot:ylabel='Q7A_ART'>"
      ]
     },
     "execution_count": 38,
     "metadata": {},
     "output_type": "execute_result"
    },
    {
     "data": {
      "image/png": "[encoded data removed]",
      "text/plain": [
       "<Figure size 432x288 with 1 Axes>"
      ]
     },
     "metadata": {},
     "output_type": "display_data"
    }
   ],
   "source": [
    "# Can use pie charts, just like in nominal level\n",
    "art_ratings.value_counts().plot(kind='pie')"
   ]
  },
  {
   "cell_type": "code",
   "execution_count": 39,
   "metadata": {},
   "outputs": [
    {
     "data": {
      "text/plain": [
       "<AxesSubplot:>"
      ]
     },
     "execution_count": 39,
     "metadata": {},
     "output_type": "execute_result"
    },
    {
     "data": {
      "image/png": "[encoded data removed]",
      "text/plain": [
       "<Figure size 432x288 with 1 Axes>"
      ]
     },
     "metadata": {},
     "output_type": "display_data"
    }
   ],
   "source": [
    "# Can use bar charts, just like in nominal level\n",
    "art_ratings.value_counts().plot(kind='bar')"
   ]
  },
  {
   "cell_type": "code",
   "execution_count": 40,
   "metadata": {},
   "outputs": [
    {
     "data": {
      "text/plain": [
       "<AxesSubplot:>"
      ]
     },
     "execution_count": 40,
     "metadata": {},
     "output_type": "execute_result"
    },
    {
     "data": {
      "image/png": "[encoded data removed]",
      "text/plain": [
       "<Figure size 432x288 with 1 Axes>"
      ]
     },
     "metadata": {},
     "output_type": "display_data"
    }
   ],
   "source": [
    "# Boxplots are available at the ordinal level\n",
    "art_ratings.value_counts().plot(kind='box')"
   ]
  },
  {
   "cell_type": "code",
   "execution_count": null,
   "metadata": {},
   "outputs": [],
   "source": []
  },
  {
   "cell_type": "code",
   "execution_count": null,
   "metadata": {},
   "outputs": [],
   "source": []
  },
  {
   "cell_type": "code",
   "execution_count": null,
   "metadata": {},
   "outputs": [],
   "source": []
  },
  {
   "cell_type": "code",
   "execution_count": null,
   "metadata": {},
   "outputs": [],
   "source": []
  },
  {
   "cell_type": "code",
   "execution_count": null,
   "metadata": {},
   "outputs": [],
   "source": []
  },
  {
   "cell_type": "code",
   "execution_count": null,
   "metadata": {},
   "outputs": [],
   "source": []
  },
  {
   "cell_type": "code",
   "execution_count": null,
   "metadata": {},
   "outputs": [],
   "source": []
  },
  {
   "cell_type": "code",
   "execution_count": 41,
   "metadata": {
    "scrolled": true
   },
   "outputs": [
    {
     "name": "stdout",
     "output_type": "stream",
     "text": [
      "<class 'pandas.core.frame.DataFrame'>\n",
      "RangeIndex: 3535 entries, 0 to 3534\n",
      "Data columns (total 95 columns):\n",
      " #   Column           Non-Null Count  Dtype  \n",
      "---  ------           --------------  -----  \n",
      " 0   RESPNUM          3535 non-null   int64  \n",
      " 1   CCGID            3535 non-null   object \n",
      " 2   RUN              3535 non-null   int64  \n",
      " 3   INTDATE          3535 non-null   int64  \n",
      " 4   GATE             3535 non-null   int64  \n",
      " 5   STRATA           3535 non-null   int64  \n",
      " 6   PEAK             3535 non-null   int64  \n",
      " 7   METHOD           3535 non-null   int64  \n",
      " 8   AIRLINE          3535 non-null   int64  \n",
      " 9   FLIGHT           3535 non-null   int64  \n",
      " 10  DEST             3535 non-null   int64  \n",
      " 11  DESTGEO          3535 non-null   int64  \n",
      " 12  DESTMARK         3535 non-null   int64  \n",
      " 13  ARRTIME          3535 non-null   object \n",
      " 14  DEPTIME          3535 non-null   object \n",
      " 15  Q2PURP1          3535 non-null   int64  \n",
      " 16  Q2PURP2          3459 non-null   float64\n",
      " 17  Q2PURP3          163 non-null    float64\n",
      " 18  Q2PURP4          17 non-null     float64\n",
      " 19  Q2PURP5          2 non-null      float64\n",
      " 20  Q2PURP6          0 non-null      float64\n",
      " 21  Q3GETTO1         3535 non-null   int64  \n",
      " 22  Q3GETTO2         3505 non-null   float64\n",
      " 23  Q3GETTO3         17 non-null     float64\n",
      " 24  Q3GETTO4         1 non-null      float64\n",
      " 25  Q3GETTO5         0 non-null      float64\n",
      " 26  Q3GETTO6         0 non-null      float64\n",
      " 27  Q3PARK           284 non-null    float64\n",
      " 28  Q4BAGS           3535 non-null   int64  \n",
      " 29  Q4BUY            3535 non-null   int64  \n",
      " 30  Q4FOOD           3535 non-null   int64  \n",
      " 31  Q4WIFI           3535 non-null   int64  \n",
      " 32  Q5FLYPERYR       3535 non-null   int64  \n",
      " 33  Q6TENURE         3535 non-null   float64\n",
      " 34  SAQ              3535 non-null   int64  \n",
      " 35  Q7A_ART          3535 non-null   int64  \n",
      " 36  Q7B_FOOD         3535 non-null   int64  \n",
      " 37  Q7C_SHOPS        3535 non-null   int64  \n",
      " 38  Q7D_SIGNS        3535 non-null   int64  \n",
      " 39  Q7E_WALK         3535 non-null   int64  \n",
      " 40  Q7F_SCREENS      3535 non-null   int64  \n",
      " 41  Q7G_INFOARR      3535 non-null   int64  \n",
      " 42  Q7H_INFODEP      3535 non-null   int64  \n",
      " 43  Q7I_WIFI         3535 non-null   int64  \n",
      " 44  Q7J_ROAD         3535 non-null   int64  \n",
      " 45  Q7K_PARK         3535 non-null   int64  \n",
      " 46  Q7L_AIRTRAIN     3535 non-null   int64  \n",
      " 47  Q7M_LTPARK       3535 non-null   int64  \n",
      " 48  Q7N_RENTAL       3535 non-null   int64  \n",
      " 49  Q7O_WHOLE        3535 non-null   int64  \n",
      " 50  Q8COM1           1495 non-null   float64\n",
      " 51  Q8COM2           308 non-null    float64\n",
      " 52  Q8COM3           59 non-null     float64\n",
      " 53  Q9A_CLNBOARD     3535 non-null   int64  \n",
      " 54  Q9B_CLNAIRTRAIN  3535 non-null   int64  \n",
      " 55  Q9C_CLNRENT      3535 non-null   int64  \n",
      " 56  Q9D_CLNFOOD      3535 non-null   int64  \n",
      " 57  Q9E_CLNBATH      3535 non-null   int64  \n",
      " 58  Q9F_CLNWHOLE     3535 non-null   int64  \n",
      " 59  Q9COM1           180 non-null    float64\n",
      " 60  Q9COM2           4 non-null      float64\n",
      " 61  Q9COM3           4 non-null      float64\n",
      " 62  Q10SAFE          3535 non-null   int64  \n",
      " 63  Q10COM1          1683 non-null   float64\n",
      " 64  Q10COM2          221 non-null    float64\n",
      " 65  Q10COM3          14 non-null     float64\n",
      " 66  Q11A_USEWEB      3535 non-null   int64  \n",
      " 67  Q11B_USESFOAPP   3535 non-null   int64  \n",
      " 68  Q11C_USEOTHAPP   3535 non-null   int64  \n",
      " 69  Q11D_USESOCMED   3535 non-null   int64  \n",
      " 70  Q11E_USEWIFI     3535 non-null   int64  \n",
      " 71  Q12COM1          706 non-null    float64\n",
      " 72  Q12COM2          75 non-null     float64\n",
      " 73  Q12COM3          2 non-null      float64\n",
      " 74  Q13_WHEREDEPART  3535 non-null   int64  \n",
      " 75  Q13_RATEGETTO    3535 non-null   int64  \n",
      " 76  Q14A_FIND        3535 non-null   int64  \n",
      " 77  Q14B_SECURITY    3535 non-null   int64  \n",
      " 78  Q15_PROBLEMS     3535 non-null   int64  \n",
      " 79  Q15COM1          389 non-null    float64\n",
      " 80  Q15COM2          21 non-null     float64\n",
      " 81  Q15COM3          1 non-null      float64\n",
      " 82  Q16_REGION       3535 non-null   int64  \n",
      " 83  Q17_CITY         3234 non-null   object \n",
      " 84  Q17_ZIP          2276 non-null   float64\n",
      " 85  Q17_COUNTRY      3410 non-null   object \n",
      " 86  HOME             3535 non-null   int64  \n",
      " 87  Q18_AGE          3535 non-null   int64  \n",
      " 88  Q19_SEX          3535 non-null   int64  \n",
      " 89  Q20_INCOME       3535 non-null   int64  \n",
      " 90  Q21_HIFLYER      3535 non-null   int64  \n",
      " 91  Q22A_USESJC      3535 non-null   int64  \n",
      " 92  Q22B_USEOAK      3535 non-null   int64  \n",
      " 93  LANG             3535 non-null   int64  \n",
      " 94  WEIGHT           3535 non-null   float64\n",
      "dtypes: float64(29), int64(61), object(5)\n",
      "memory usage: 2.6+ MB\n"
     ]
    }
   ],
   "source": [
    "customer.info()"
   ]
  },
  {
   "cell_type": "code",
   "execution_count": 42,
   "metadata": {
    "scrolled": true
   },
   "outputs": [
    {
     "data": {
      "text/plain": [
       "RESPNUM        0\n",
       "CCGID          0\n",
       "RUN            0\n",
       "INTDATE        0\n",
       "GATE           0\n",
       "              ..\n",
       "Q21_HIFLYER    0\n",
       "Q22A_USESJC    0\n",
       "Q22B_USEOAK    0\n",
       "LANG           0\n",
       "WEIGHT         0\n",
       "Length: 95, dtype: int64"
      ]
     },
     "execution_count": 42,
     "metadata": {},
     "output_type": "execute_result"
    }
   ],
   "source": [
    "customer.isnull().sum()"
   ]
  },
  {
   "cell_type": "code",
   "execution_count": 43,
   "metadata": {},
   "outputs": [
    {
     "data": {
      "text/plain": [
       "<AxesSubplot:>"
      ]
     },
     "execution_count": 43,
     "metadata": {},
     "output_type": "execute_result"
    },
    {
     "data": {
      "image/png": "[encoded data removed]",
      "text/plain": [
       "<Figure size 432x288 with 2 Axes>"
      ]
     },
     "metadata": {},
     "output_type": "display_data"
    }
   ],
   "source": [
    "sns.heatmap(customer.corr())"
   ]
  },
  {
   "cell_type": "code",
   "execution_count": 44,
   "metadata": {},
   "outputs": [],
   "source": [
    "# we see that there are quite a few null values, so let's discuss methods for handling missing data\n",
    "# other methods to handle missing data, (called imputing): \n",
    "# using the mean of the column for the missing values,\n",
    "# utilizing machine learning methods to fill in the data"
   ]
  },
  {
   "cell_type": "code",
   "execution_count": 45,
   "metadata": {},
   "outputs": [],
   "source": [
    "# here we will remove the columns that contain those missing values for now\n",
    "customer.dropna(axis=1, inplace=True)"
   ]
  },
  {
   "cell_type": "code",
   "execution_count": 46,
   "metadata": {
    "scrolled": true
   },
   "outputs": [
    {
     "data": {
      "text/plain": [
       "RESPNUM        0\n",
       "CCGID          0\n",
       "RUN            0\n",
       "INTDATE        0\n",
       "GATE           0\n",
       "              ..\n",
       "Q21_HIFLYER    0\n",
       "Q22A_USESJC    0\n",
       "Q22B_USEOAK    0\n",
       "LANG           0\n",
       "WEIGHT         0\n",
       "Length: 66, dtype: int64"
      ]
     },
     "execution_count": 46,
     "metadata": {},
     "output_type": "execute_result"
    }
   ],
   "source": [
    "customer.isnull().sum()"
   ]
  },
  {
   "cell_type": "code",
   "execution_count": 47,
   "metadata": {
    "scrolled": true
   },
   "outputs": [
    {
     "name": "stdout",
     "output_type": "stream",
     "text": [
      "<class 'pandas.core.frame.DataFrame'>\n",
      "RangeIndex: 3535 entries, 0 to 3534\n",
      "Data columns (total 66 columns):\n",
      " #   Column           Non-Null Count  Dtype  \n",
      "---  ------           --------------  -----  \n",
      " 0   RESPNUM          3535 non-null   int64  \n",
      " 1   CCGID            3535 non-null   object \n",
      " 2   RUN              3535 non-null   int64  \n",
      " 3   INTDATE          3535 non-null   int64  \n",
      " 4   GATE             3535 non-null   int64  \n",
      " 5   STRATA           3535 non-null   int64  \n",
      " 6   PEAK             3535 non-null   int64  \n",
      " 7   METHOD           3535 non-null   int64  \n",
      " 8   AIRLINE          3535 non-null   int64  \n",
      " 9   FLIGHT           3535 non-null   int64  \n",
      " 10  DEST             3535 non-null   int64  \n",
      " 11  DESTGEO          3535 non-null   int64  \n",
      " 12  DESTMARK         3535 non-null   int64  \n",
      " 13  ARRTIME          3535 non-null   object \n",
      " 14  DEPTIME          3535 non-null   object \n",
      " 15  Q2PURP1          3535 non-null   int64  \n",
      " 16  Q3GETTO1         3535 non-null   int64  \n",
      " 17  Q4BAGS           3535 non-null   int64  \n",
      " 18  Q4BUY            3535 non-null   int64  \n",
      " 19  Q4FOOD           3535 non-null   int64  \n",
      " 20  Q4WIFI           3535 non-null   int64  \n",
      " 21  Q5FLYPERYR       3535 non-null   int64  \n",
      " 22  Q6TENURE         3535 non-null   float64\n",
      " 23  SAQ              3535 non-null   int64  \n",
      " 24  Q7A_ART          3535 non-null   int64  \n",
      " 25  Q7B_FOOD         3535 non-null   int64  \n",
      " 26  Q7C_SHOPS        3535 non-null   int64  \n",
      " 27  Q7D_SIGNS        3535 non-null   int64  \n",
      " 28  Q7E_WALK         3535 non-null   int64  \n",
      " 29  Q7F_SCREENS      3535 non-null   int64  \n",
      " 30  Q7G_INFOARR      3535 non-null   int64  \n",
      " 31  Q7H_INFODEP      3535 non-null   int64  \n",
      " 32  Q7I_WIFI         3535 non-null   int64  \n",
      " 33  Q7J_ROAD         3535 non-null   int64  \n",
      " 34  Q7K_PARK         3535 non-null   int64  \n",
      " 35  Q7L_AIRTRAIN     3535 non-null   int64  \n",
      " 36  Q7M_LTPARK       3535 non-null   int64  \n",
      " 37  Q7N_RENTAL       3535 non-null   int64  \n",
      " 38  Q7O_WHOLE        3535 non-null   int64  \n",
      " 39  Q9A_CLNBOARD     3535 non-null   int64  \n",
      " 40  Q9B_CLNAIRTRAIN  3535 non-null   int64  \n",
      " 41  Q9C_CLNRENT      3535 non-null   int64  \n",
      " 42  Q9D_CLNFOOD      3535 non-null   int64  \n",
      " 43  Q9E_CLNBATH      3535 non-null   int64  \n",
      " 44  Q9F_CLNWHOLE     3535 non-null   int64  \n",
      " 45  Q10SAFE          3535 non-null   int64  \n",
      " 46  Q11A_USEWEB      3535 non-null   int64  \n",
      " 47  Q11B_USESFOAPP   3535 non-null   int64  \n",
      " 48  Q11C_USEOTHAPP   3535 non-null   int64  \n",
      " 49  Q11D_USESOCMED   3535 non-null   int64  \n",
      " 50  Q11E_USEWIFI     3535 non-null   int64  \n",
      " 51  Q13_WHEREDEPART  3535 non-null   int64  \n",
      " 52  Q13_RATEGETTO    3535 non-null   int64  \n",
      " 53  Q14A_FIND        3535 non-null   int64  \n",
      " 54  Q14B_SECURITY    3535 non-null   int64  \n",
      " 55  Q15_PROBLEMS     3535 non-null   int64  \n",
      " 56  Q16_REGION       3535 non-null   int64  \n",
      " 57  HOME             3535 non-null   int64  \n",
      " 58  Q18_AGE          3535 non-null   int64  \n",
      " 59  Q19_SEX          3535 non-null   int64  \n",
      " 60  Q20_INCOME       3535 non-null   int64  \n",
      " 61  Q21_HIFLYER      3535 non-null   int64  \n",
      " 62  Q22A_USESJC      3535 non-null   int64  \n",
      " 63  Q22B_USEOAK      3535 non-null   int64  \n",
      " 64  LANG             3535 non-null   int64  \n",
      " 65  WEIGHT           3535 non-null   float64\n",
      "dtypes: float64(2), int64(61), object(3)\n",
      "memory usage: 1.8+ MB\n"
     ]
    }
   ],
   "source": [
    "# Columns with null values got dropped (went from 95 columns to 66)\n",
    "customer.info()"
   ]
  },
  {
   "cell_type": "code",
   "execution_count": 48,
   "metadata": {
    "scrolled": true
   },
   "outputs": [
    {
     "data": {
      "text/html": [
       "<div>\n",
       "<style scoped>\n",
       "    .dataframe tbody tr th:only-of-type {\n",
       "        vertical-align: middle;\n",
       "    }\n",
       "\n",
       "    .dataframe tbody tr th {\n",
       "        vertical-align: top;\n",
       "    }\n",
       "\n",
       "    .dataframe thead th {\n",
       "        text-align: right;\n",
       "    }\n",
       "</style>\n",
       "<table border=\"1\" class=\"dataframe\">\n",
       "  <thead>\n",
       "    <tr style=\"text-align: right;\">\n",
       "      <th></th>\n",
       "      <th>count</th>\n",
       "      <th>mean</th>\n",
       "      <th>std</th>\n",
       "      <th>min</th>\n",
       "      <th>25%</th>\n",
       "      <th>50%</th>\n",
       "      <th>75%</th>\n",
       "      <th>max</th>\n",
       "    </tr>\n",
       "  </thead>\n",
       "  <tbody>\n",
       "    <tr>\n",
       "      <th>RESPNUM</th>\n",
       "      <td>3535.0</td>\n",
       "      <td>2119.889392</td>\n",
       "      <td>1385.474407</td>\n",
       "      <td>1.000000</td>\n",
       "      <td>886.500000</td>\n",
       "      <td>2137.000000</td>\n",
       "      <td>3168.500000</td>\n",
       "      <td>9995.000000</td>\n",
       "    </tr>\n",
       "    <tr>\n",
       "      <th>RUN</th>\n",
       "      <td>3535.0</td>\n",
       "      <td>1960.375389</td>\n",
       "      <td>458.893056</td>\n",
       "      <td>1201.000000</td>\n",
       "      <td>1605.500000</td>\n",
       "      <td>1918.000000</td>\n",
       "      <td>2403.000000</td>\n",
       "      <td>2806.000000</td>\n",
       "    </tr>\n",
       "    <tr>\n",
       "      <th>INTDATE</th>\n",
       "      <td>3535.0</td>\n",
       "      <td>9.431966</td>\n",
       "      <td>4.561762</td>\n",
       "      <td>2.000000</td>\n",
       "      <td>6.000000</td>\n",
       "      <td>9.000000</td>\n",
       "      <td>14.000000</td>\n",
       "      <td>18.000000</td>\n",
       "    </tr>\n",
       "    <tr>\n",
       "      <th>GATE</th>\n",
       "      <td>3535.0</td>\n",
       "      <td>52.635078</td>\n",
       "      <td>34.075357</td>\n",
       "      <td>1.000000</td>\n",
       "      <td>21.000000</td>\n",
       "      <td>52.000000</td>\n",
       "      <td>87.000000</td>\n",
       "      <td>102.000000</td>\n",
       "    </tr>\n",
       "    <tr>\n",
       "      <th>STRATA</th>\n",
       "      <td>3535.0</td>\n",
       "      <td>1.977652</td>\n",
       "      <td>0.778393</td>\n",
       "      <td>1.000000</td>\n",
       "      <td>1.000000</td>\n",
       "      <td>2.000000</td>\n",
       "      <td>3.000000</td>\n",
       "      <td>3.000000</td>\n",
       "    </tr>\n",
       "    <tr>\n",
       "      <th>...</th>\n",
       "      <td>...</td>\n",
       "      <td>...</td>\n",
       "      <td>...</td>\n",
       "      <td>...</td>\n",
       "      <td>...</td>\n",
       "      <td>...</td>\n",
       "      <td>...</td>\n",
       "      <td>...</td>\n",
       "    </tr>\n",
       "    <tr>\n",
       "      <th>Q21_HIFLYER</th>\n",
       "      <td>3535.0</td>\n",
       "      <td>1.837058</td>\n",
       "      <td>0.596193</td>\n",
       "      <td>0.000000</td>\n",
       "      <td>2.000000</td>\n",
       "      <td>2.000000</td>\n",
       "      <td>2.000000</td>\n",
       "      <td>4.000000</td>\n",
       "    </tr>\n",
       "    <tr>\n",
       "      <th>Q22A_USESJC</th>\n",
       "      <td>3535.0</td>\n",
       "      <td>1.718812</td>\n",
       "      <td>0.584292</td>\n",
       "      <td>0.000000</td>\n",
       "      <td>2.000000</td>\n",
       "      <td>2.000000</td>\n",
       "      <td>2.000000</td>\n",
       "      <td>4.000000</td>\n",
       "    </tr>\n",
       "    <tr>\n",
       "      <th>Q22B_USEOAK</th>\n",
       "      <td>3535.0</td>\n",
       "      <td>1.663932</td>\n",
       "      <td>0.612257</td>\n",
       "      <td>0.000000</td>\n",
       "      <td>1.000000</td>\n",
       "      <td>2.000000</td>\n",
       "      <td>2.000000</td>\n",
       "      <td>4.000000</td>\n",
       "    </tr>\n",
       "    <tr>\n",
       "      <th>LANG</th>\n",
       "      <td>3535.0</td>\n",
       "      <td>1.159264</td>\n",
       "      <td>0.628356</td>\n",
       "      <td>1.000000</td>\n",
       "      <td>1.000000</td>\n",
       "      <td>1.000000</td>\n",
       "      <td>1.000000</td>\n",
       "      <td>4.000000</td>\n",
       "    </tr>\n",
       "    <tr>\n",
       "      <th>WEIGHT</th>\n",
       "      <td>3535.0</td>\n",
       "      <td>0.999973</td>\n",
       "      <td>0.481986</td>\n",
       "      <td>0.553675</td>\n",
       "      <td>0.595689</td>\n",
       "      <td>0.892167</td>\n",
       "      <td>1.266708</td>\n",
       "      <td>1.870831</td>\n",
       "    </tr>\n",
       "  </tbody>\n",
       "</table>\n",
       "<p>63 rows × 8 columns</p>\n",
       "</div>"
      ],
      "text/plain": [
       "              count         mean          std          min          25%  \\\n",
       "RESPNUM      3535.0  2119.889392  1385.474407     1.000000   886.500000   \n",
       "RUN          3535.0  1960.375389   458.893056  1201.000000  1605.500000   \n",
       "INTDATE      3535.0     9.431966     4.561762     2.000000     6.000000   \n",
       "GATE         3535.0    52.635078    34.075357     1.000000    21.000000   \n",
       "STRATA       3535.0     1.977652     0.778393     1.000000     1.000000   \n",
       "...             ...          ...          ...          ...          ...   \n",
       "Q21_HIFLYER  3535.0     1.837058     0.596193     0.000000     2.000000   \n",
       "Q22A_USESJC  3535.0     1.718812     0.584292     0.000000     2.000000   \n",
       "Q22B_USEOAK  3535.0     1.663932     0.612257     0.000000     1.000000   \n",
       "LANG         3535.0     1.159264     0.628356     1.000000     1.000000   \n",
       "WEIGHT       3535.0     0.999973     0.481986     0.553675     0.595689   \n",
       "\n",
       "                     50%          75%          max  \n",
       "RESPNUM      2137.000000  3168.500000  9995.000000  \n",
       "RUN          1918.000000  2403.000000  2806.000000  \n",
       "INTDATE         9.000000    14.000000    18.000000  \n",
       "GATE           52.000000    87.000000   102.000000  \n",
       "STRATA          2.000000     3.000000     3.000000  \n",
       "...                  ...          ...          ...  \n",
       "Q21_HIFLYER     2.000000     2.000000     4.000000  \n",
       "Q22A_USESJC     2.000000     2.000000     4.000000  \n",
       "Q22B_USEOAK     2.000000     2.000000     4.000000  \n",
       "LANG            1.000000     1.000000     4.000000  \n",
       "WEIGHT          0.892167     1.266708     1.870831  \n",
       "\n",
       "[63 rows x 8 columns]"
      ]
     },
     "execution_count": 48,
     "metadata": {},
     "output_type": "execute_result"
    }
   ],
   "source": [
    "customer.describe().T"
   ]
  },
  {
   "cell_type": "code",
   "execution_count": 49,
   "metadata": {},
   "outputs": [
    {
     "data": {
      "text/plain": [
       "<AxesSubplot:>"
      ]
     },
     "execution_count": 49,
     "metadata": {},
     "output_type": "execute_result"
    },
    {
     "data": {
      "image/png": "[encoded data removed]",
      "text/plain": [
       "<Figure size 432x288 with 2 Axes>"
      ]
     },
     "metadata": {},
     "output_type": "display_data"
    }
   ],
   "source": [
    "sns.heatmap(customer.corr())"
   ]
  },
  {
   "cell_type": "markdown",
   "metadata": {},
   "source": [
    "# Chicago Food Inspections Data"
   ]
  },
  {
   "cell_type": "code",
   "execution_count": 51,
   "metadata": {
    "scrolled": true
   },
   "outputs": [
    {
     "ename": "FileNotFoundError",
     "evalue": "[Errno 2] No such file or directory: '../data/Food_Inspections.csv'",
     "output_type": "error",
     "traceback": [
      "\u001b[1;31m---------------------------------------------------------------------------\u001b[0m",
      "\u001b[1;31mFileNotFoundError\u001b[0m                         Traceback (most recent call last)",
      "\u001b[1;32m~\\AppData\\Local\\Temp/ipykernel_11820/2395840832.py\u001b[0m in \u001b[0;36m<module>\u001b[1;34m\u001b[0m\n\u001b[0;32m      1\u001b[0m \u001b[1;31m# load in the data set\u001b[0m\u001b[1;33m\u001b[0m\u001b[1;33m\u001b[0m\u001b[1;33m\u001b[0m\u001b[0m\n\u001b[1;32m----> 2\u001b[1;33m \u001b[0mfood\u001b[0m \u001b[1;33m=\u001b[0m \u001b[0mpd\u001b[0m\u001b[1;33m.\u001b[0m\u001b[0mread_csv\u001b[0m\u001b[1;33m(\u001b[0m\u001b[1;34m'../data/Food_Inspections.csv'\u001b[0m\u001b[1;33m)\u001b[0m\u001b[1;33m\u001b[0m\u001b[1;33m\u001b[0m\u001b[0m\n\u001b[0m",
      "\u001b[1;32mD:\\Anaconda3\\envs\\tensorflow\\lib\\site-packages\\pandas\\util\\_decorators.py\u001b[0m in \u001b[0;36mwrapper\u001b[1;34m(*args, **kwargs)\u001b[0m\n\u001b[0;32m    309\u001b[0m                     \u001b[0mstacklevel\u001b[0m\u001b[1;33m=\u001b[0m\u001b[0mstacklevel\u001b[0m\u001b[1;33m,\u001b[0m\u001b[1;33m\u001b[0m\u001b[1;33m\u001b[0m\u001b[0m\n\u001b[0;32m    310\u001b[0m                 )\n\u001b[1;32m--> 311\u001b[1;33m             \u001b[1;32mreturn\u001b[0m \u001b[0mfunc\u001b[0m\u001b[1;33m(\u001b[0m\u001b[1;33m*\u001b[0m\u001b[0margs\u001b[0m\u001b[1;33m,\u001b[0m \u001b[1;33m**\u001b[0m\u001b[0mkwargs\u001b[0m\u001b[1;33m)\u001b[0m\u001b[1;33m\u001b[0m\u001b[1;33m\u001b[0m\u001b[0m\n\u001b[0m\u001b[0;32m    312\u001b[0m \u001b[1;33m\u001b[0m\u001b[0m\n\u001b[0;32m    313\u001b[0m         \u001b[1;32mreturn\u001b[0m \u001b[0mwrapper\u001b[0m\u001b[1;33m\u001b[0m\u001b[1;33m\u001b[0m\u001b[0m\n",
      "\u001b[1;32mD:\\Anaconda3\\envs\\tensorflow\\lib\\site-packages\\pandas\\io\\parsers\\readers.py\u001b[0m in \u001b[0;36mread_csv\u001b[1;34m(filepath_or_buffer, sep, delimiter, header, names, index_col, usecols, squeeze, prefix, mangle_dupe_cols, dtype, engine, converters, true_values, false_values, skipinitialspace, skiprows, skipfooter, nrows, na_values, keep_default_na, na_filter, verbose, skip_blank_lines, parse_dates, infer_datetime_format, keep_date_col, date_parser, dayfirst, cache_dates, iterator, chunksize, compression, thousands, decimal, lineterminator, quotechar, quoting, doublequote, escapechar, comment, encoding, encoding_errors, dialect, error_bad_lines, warn_bad_lines, on_bad_lines, delim_whitespace, low_memory, memory_map, float_precision, storage_options)\u001b[0m\n\u001b[0;32m    584\u001b[0m     \u001b[0mkwds\u001b[0m\u001b[1;33m.\u001b[0m\u001b[0mupdate\u001b[0m\u001b[1;33m(\u001b[0m\u001b[0mkwds_defaults\u001b[0m\u001b[1;33m)\u001b[0m\u001b[1;33m\u001b[0m\u001b[1;33m\u001b[0m\u001b[0m\n\u001b[0;32m    585\u001b[0m \u001b[1;33m\u001b[0m\u001b[0m\n\u001b[1;32m--> 586\u001b[1;33m     \u001b[1;32mreturn\u001b[0m \u001b[0m_read\u001b[0m\u001b[1;33m(\u001b[0m\u001b[0mfilepath_or_buffer\u001b[0m\u001b[1;33m,\u001b[0m \u001b[0mkwds\u001b[0m\u001b[1;33m)\u001b[0m\u001b[1;33m\u001b[0m\u001b[1;33m\u001b[0m\u001b[0m\n\u001b[0m\u001b[0;32m    587\u001b[0m \u001b[1;33m\u001b[0m\u001b[0m\n\u001b[0;32m    588\u001b[0m \u001b[1;33m\u001b[0m\u001b[0m\n",
      "\u001b[1;32mD:\\Anaconda3\\envs\\tensorflow\\lib\\site-packages\\pandas\\io\\parsers\\readers.py\u001b[0m in \u001b[0;36m_read\u001b[1;34m(filepath_or_buffer, kwds)\u001b[0m\n\u001b[0;32m    480\u001b[0m \u001b[1;33m\u001b[0m\u001b[0m\n\u001b[0;32m    481\u001b[0m     \u001b[1;31m# Create the parser.\u001b[0m\u001b[1;33m\u001b[0m\u001b[1;33m\u001b[0m\u001b[1;33m\u001b[0m\u001b[0m\n\u001b[1;32m--> 482\u001b[1;33m     \u001b[0mparser\u001b[0m \u001b[1;33m=\u001b[0m \u001b[0mTextFileReader\u001b[0m\u001b[1;33m(\u001b[0m\u001b[0mfilepath_or_buffer\u001b[0m\u001b[1;33m,\u001b[0m \u001b[1;33m**\u001b[0m\u001b[0mkwds\u001b[0m\u001b[1;33m)\u001b[0m\u001b[1;33m\u001b[0m\u001b[1;33m\u001b[0m\u001b[0m\n\u001b[0m\u001b[0;32m    483\u001b[0m \u001b[1;33m\u001b[0m\u001b[0m\n\u001b[0;32m    484\u001b[0m     \u001b[1;32mif\u001b[0m \u001b[0mchunksize\u001b[0m \u001b[1;32mor\u001b[0m \u001b[0miterator\u001b[0m\u001b[1;33m:\u001b[0m\u001b[1;33m\u001b[0m\u001b[1;33m\u001b[0m\u001b[0m\n",
      "\u001b[1;32mD:\\Anaconda3\\envs\\tensorflow\\lib\\site-packages\\pandas\\io\\parsers\\readers.py\u001b[0m in \u001b[0;36m__init__\u001b[1;34m(self, f, engine, **kwds)\u001b[0m\n\u001b[0;32m    809\u001b[0m             \u001b[0mself\u001b[0m\u001b[1;33m.\u001b[0m\u001b[0moptions\u001b[0m\u001b[1;33m[\u001b[0m\u001b[1;34m\"has_index_names\"\u001b[0m\u001b[1;33m]\u001b[0m \u001b[1;33m=\u001b[0m \u001b[0mkwds\u001b[0m\u001b[1;33m[\u001b[0m\u001b[1;34m\"has_index_names\"\u001b[0m\u001b[1;33m]\u001b[0m\u001b[1;33m\u001b[0m\u001b[1;33m\u001b[0m\u001b[0m\n\u001b[0;32m    810\u001b[0m \u001b[1;33m\u001b[0m\u001b[0m\n\u001b[1;32m--> 811\u001b[1;33m         \u001b[0mself\u001b[0m\u001b[1;33m.\u001b[0m\u001b[0m_engine\u001b[0m \u001b[1;33m=\u001b[0m \u001b[0mself\u001b[0m\u001b[1;33m.\u001b[0m\u001b[0m_make_engine\u001b[0m\u001b[1;33m(\u001b[0m\u001b[0mself\u001b[0m\u001b[1;33m.\u001b[0m\u001b[0mengine\u001b[0m\u001b[1;33m)\u001b[0m\u001b[1;33m\u001b[0m\u001b[1;33m\u001b[0m\u001b[0m\n\u001b[0m\u001b[0;32m    812\u001b[0m \u001b[1;33m\u001b[0m\u001b[0m\n\u001b[0;32m    813\u001b[0m     \u001b[1;32mdef\u001b[0m \u001b[0mclose\u001b[0m\u001b[1;33m(\u001b[0m\u001b[0mself\u001b[0m\u001b[1;33m)\u001b[0m\u001b[1;33m:\u001b[0m\u001b[1;33m\u001b[0m\u001b[1;33m\u001b[0m\u001b[0m\n",
      "\u001b[1;32mD:\\Anaconda3\\envs\\tensorflow\\lib\\site-packages\\pandas\\io\\parsers\\readers.py\u001b[0m in \u001b[0;36m_make_engine\u001b[1;34m(self, engine)\u001b[0m\n\u001b[0;32m   1038\u001b[0m             )\n\u001b[0;32m   1039\u001b[0m         \u001b[1;31m# error: Too many arguments for \"ParserBase\"\u001b[0m\u001b[1;33m\u001b[0m\u001b[1;33m\u001b[0m\u001b[1;33m\u001b[0m\u001b[0m\n\u001b[1;32m-> 1040\u001b[1;33m         \u001b[1;32mreturn\u001b[0m \u001b[0mmapping\u001b[0m\u001b[1;33m[\u001b[0m\u001b[0mengine\u001b[0m\u001b[1;33m]\u001b[0m\u001b[1;33m(\u001b[0m\u001b[0mself\u001b[0m\u001b[1;33m.\u001b[0m\u001b[0mf\u001b[0m\u001b[1;33m,\u001b[0m \u001b[1;33m**\u001b[0m\u001b[0mself\u001b[0m\u001b[1;33m.\u001b[0m\u001b[0moptions\u001b[0m\u001b[1;33m)\u001b[0m  \u001b[1;31m# type: ignore[call-arg]\u001b[0m\u001b[1;33m\u001b[0m\u001b[1;33m\u001b[0m\u001b[0m\n\u001b[0m\u001b[0;32m   1041\u001b[0m \u001b[1;33m\u001b[0m\u001b[0m\n\u001b[0;32m   1042\u001b[0m     \u001b[1;32mdef\u001b[0m \u001b[0m_failover_to_python\u001b[0m\u001b[1;33m(\u001b[0m\u001b[0mself\u001b[0m\u001b[1;33m)\u001b[0m\u001b[1;33m:\u001b[0m\u001b[1;33m\u001b[0m\u001b[1;33m\u001b[0m\u001b[0m\n",
      "\u001b[1;32mD:\\Anaconda3\\envs\\tensorflow\\lib\\site-packages\\pandas\\io\\parsers\\c_parser_wrapper.py\u001b[0m in \u001b[0;36m__init__\u001b[1;34m(self, src, **kwds)\u001b[0m\n\u001b[0;32m     49\u001b[0m \u001b[1;33m\u001b[0m\u001b[0m\n\u001b[0;32m     50\u001b[0m         \u001b[1;31m# open handles\u001b[0m\u001b[1;33m\u001b[0m\u001b[1;33m\u001b[0m\u001b[1;33m\u001b[0m\u001b[0m\n\u001b[1;32m---> 51\u001b[1;33m         \u001b[0mself\u001b[0m\u001b[1;33m.\u001b[0m\u001b[0m_open_handles\u001b[0m\u001b[1;33m(\u001b[0m\u001b[0msrc\u001b[0m\u001b[1;33m,\u001b[0m \u001b[0mkwds\u001b[0m\u001b[1;33m)\u001b[0m\u001b[1;33m\u001b[0m\u001b[1;33m\u001b[0m\u001b[0m\n\u001b[0m\u001b[0;32m     52\u001b[0m         \u001b[1;32massert\u001b[0m \u001b[0mself\u001b[0m\u001b[1;33m.\u001b[0m\u001b[0mhandles\u001b[0m \u001b[1;32mis\u001b[0m \u001b[1;32mnot\u001b[0m \u001b[1;32mNone\u001b[0m\u001b[1;33m\u001b[0m\u001b[1;33m\u001b[0m\u001b[0m\n\u001b[0;32m     53\u001b[0m \u001b[1;33m\u001b[0m\u001b[0m\n",
      "\u001b[1;32mD:\\Anaconda3\\envs\\tensorflow\\lib\\site-packages\\pandas\\io\\parsers\\base_parser.py\u001b[0m in \u001b[0;36m_open_handles\u001b[1;34m(self, src, kwds)\u001b[0m\n\u001b[0;32m    220\u001b[0m         \u001b[0mLet\u001b[0m \u001b[0mthe\u001b[0m \u001b[0mreaders\u001b[0m \u001b[0mopen\u001b[0m \u001b[0mIOHandles\u001b[0m \u001b[0mafter\u001b[0m \u001b[0mthey\u001b[0m \u001b[0mare\u001b[0m \u001b[0mdone\u001b[0m \u001b[1;32mwith\u001b[0m \u001b[0mtheir\u001b[0m \u001b[0mpotential\u001b[0m \u001b[0mraises\u001b[0m\u001b[1;33m.\u001b[0m\u001b[1;33m\u001b[0m\u001b[1;33m\u001b[0m\u001b[0m\n\u001b[0;32m    221\u001b[0m         \"\"\"\n\u001b[1;32m--> 222\u001b[1;33m         self.handles = get_handle(\n\u001b[0m\u001b[0;32m    223\u001b[0m             \u001b[0msrc\u001b[0m\u001b[1;33m,\u001b[0m\u001b[1;33m\u001b[0m\u001b[1;33m\u001b[0m\u001b[0m\n\u001b[0;32m    224\u001b[0m             \u001b[1;34m\"r\"\u001b[0m\u001b[1;33m,\u001b[0m\u001b[1;33m\u001b[0m\u001b[1;33m\u001b[0m\u001b[0m\n",
      "\u001b[1;32mD:\\Anaconda3\\envs\\tensorflow\\lib\\site-packages\\pandas\\io\\common.py\u001b[0m in \u001b[0;36mget_handle\u001b[1;34m(path_or_buf, mode, encoding, compression, memory_map, is_text, errors, storage_options)\u001b[0m\n\u001b[0;32m    700\u001b[0m         \u001b[1;32mif\u001b[0m \u001b[0mioargs\u001b[0m\u001b[1;33m.\u001b[0m\u001b[0mencoding\u001b[0m \u001b[1;32mand\u001b[0m \u001b[1;34m\"b\"\u001b[0m \u001b[1;32mnot\u001b[0m \u001b[1;32min\u001b[0m \u001b[0mioargs\u001b[0m\u001b[1;33m.\u001b[0m\u001b[0mmode\u001b[0m\u001b[1;33m:\u001b[0m\u001b[1;33m\u001b[0m\u001b[1;33m\u001b[0m\u001b[0m\n\u001b[0;32m    701\u001b[0m             \u001b[1;31m# Encoding\u001b[0m\u001b[1;33m\u001b[0m\u001b[1;33m\u001b[0m\u001b[1;33m\u001b[0m\u001b[0m\n\u001b[1;32m--> 702\u001b[1;33m             handle = open(\n\u001b[0m\u001b[0;32m    703\u001b[0m                 \u001b[0mhandle\u001b[0m\u001b[1;33m,\u001b[0m\u001b[1;33m\u001b[0m\u001b[1;33m\u001b[0m\u001b[0m\n\u001b[0;32m    704\u001b[0m                 \u001b[0mioargs\u001b[0m\u001b[1;33m.\u001b[0m\u001b[0mmode\u001b[0m\u001b[1;33m,\u001b[0m\u001b[1;33m\u001b[0m\u001b[1;33m\u001b[0m\u001b[0m\n",
      "\u001b[1;31mFileNotFoundError\u001b[0m: [Errno 2] No such file or directory: '../data/Food_Inspections.csv'"
     ]
    }
   ],
   "source": [
    "# load in the data set\n",
    "food = pd.read_csv('../data/Food_Inspections.csv')"
   ]
  },
  {
   "cell_type": "code",
   "execution_count": null,
   "metadata": {
    "scrolled": true
   },
   "outputs": [],
   "source": [
    "food.info()"
   ]
  },
  {
   "cell_type": "code",
   "execution_count": null,
   "metadata": {},
   "outputs": [],
   "source": [
    "food.isnull().sum()"
   ]
  },
  {
   "cell_type": "code",
   "execution_count": null,
   "metadata": {},
   "outputs": [],
   "source": [
    "food.head(2)"
   ]
  },
  {
   "cell_type": "code",
   "execution_count": null,
   "metadata": {},
   "outputs": [],
   "source": [
    "food['Results'].unique()"
   ]
  },
  {
   "cell_type": "code",
   "execution_count": null,
   "metadata": {},
   "outputs": [],
   "source": [
    "food['Risk'].unique()"
   ]
  },
  {
   "cell_type": "markdown",
   "metadata": {},
   "source": [
    "This dataset is a good example of descriptive data:\n",
    "Understanding the type of data that we are working with will give us a better idea of what type of ML model to impelement."
   ]
  },
  {
   "cell_type": "code",
   "execution_count": null,
   "metadata": {},
   "outputs": [],
   "source": [
    "fig = plt.figure(figsize=(15,5))\n",
    "ax = fig.gca()\n",
    "\n",
    "food.groupby('Risk')[['Zip']].count().sort_values(\n",
    "    'Zip', ascending=False).tail(50).plot.bar(stacked=False, ax=ax, color='darkorange')\n",
    "ax.set_title('Number of Zipcodes by Risk')"
   ]
  },
  {
   "cell_type": "code",
   "execution_count": null,
   "metadata": {},
   "outputs": [],
   "source": [
    "fig = plt.figure(figsize=(15,5))\n",
    "ax = fig.gca()\n",
    "\n",
    "food.groupby('Inspection Type')[['Risk']].count().sort_values(\n",
    "    'Risk', ascending=False).head(10).plot.bar(stacked=False, ax=ax, color='darkorange')\n",
    "ax.set_title('Risk by Inspection Type')"
   ]
  },
  {
   "cell_type": "code",
   "execution_count": null,
   "metadata": {},
   "outputs": [],
   "source": [
    "# Clean risk to numeric values"
   ]
  },
  {
   "cell_type": "code",
   "execution_count": null,
   "metadata": {},
   "outputs": [],
   "source": [
    "food['Risk'] = food['Risk'].astype(str)"
   ]
  },
  {
   "cell_type": "code",
   "execution_count": null,
   "metadata": {},
   "outputs": [],
   "source": [
    "food['Risk'] = food['Risk'].map(lambda value: value.replace('Risk', '').replace('(High)', '').replace('(Low)', '').replace('(Medium)', '').replace('All', '0').replace('nan', '0'))"
   ]
  },
  {
   "cell_type": "code",
   "execution_count": null,
   "metadata": {},
   "outputs": [],
   "source": [
    "food['Risk'] = food['Risk'].astype(int)"
   ]
  },
  {
   "cell_type": "code",
   "execution_count": null,
   "metadata": {},
   "outputs": [],
   "source": [
    "fig = plt.figure(figsize=(15,5))\n",
    "ax = fig.gca()\n",
    "\n",
    "food.groupby('Inspection Type')[['Risk']].mean().sort_values(\n",
    "    'Risk', ascending=False).head(50).plot.bar(stacked=False, ax=ax, color='darkorange')\n",
    "ax.set_title('Mean Risk by Inspection Type')"
   ]
  },
  {
   "cell_type": "markdown",
   "metadata": {},
   "source": [
    "# Whitehouse Visitor Log Dataset"
   ]
  },
  {
   "cell_type": "code",
   "execution_count": null,
   "metadata": {},
   "outputs": [],
   "source": [
    "# load in the data set\n",
    "whitehouse = pd.read_csv('/Users/divyasusarla/Downloads/whitehouse_waves-2016_12.csv')"
   ]
  },
  {
   "cell_type": "code",
   "execution_count": null,
   "metadata": {},
   "outputs": [],
   "source": [
    "whitehouse.info()"
   ]
  },
  {
   "cell_type": "code",
   "execution_count": null,
   "metadata": {
    "scrolled": true
   },
   "outputs": [],
   "source": [
    "whitehouse.isnull().sum()"
   ]
  },
  {
   "cell_type": "code",
   "execution_count": null,
   "metadata": {},
   "outputs": [],
   "source": [
    "whitehouse.dropna(axis=1, inplace=True)"
   ]
  },
  {
   "cell_type": "code",
   "execution_count": null,
   "metadata": {},
   "outputs": [],
   "source": [
    "whitehouse.head()"
   ]
  },
  {
   "cell_type": "code",
   "execution_count": null,
   "metadata": {},
   "outputs": [],
   "source": [
    "whitehouse['APPT_START_DATE'] = pd.to_datetime(whitehouse['APPT_START_DATE'])\n",
    "whitehouse['APPT_END_DATE'] = pd.to_datetime(whitehouse['APPT_END_DATE'])"
   ]
  },
  {
   "cell_type": "code",
   "execution_count": null,
   "metadata": {},
   "outputs": [],
   "source": [
    "whitehouse['APPT_DURATION'] = whitehouse['APPT_END_DATE'] - whitehouse['APPT_START_DATE']"
   ]
  },
  {
   "cell_type": "code",
   "execution_count": null,
   "metadata": {},
   "outputs": [],
   "source": [
    "np.mean(whitehouse['APPT_DURATION'])"
   ]
  },
  {
   "cell_type": "markdown",
   "metadata": {},
   "source": [
    "# Climate Change Dataset:"
   ]
  },
  {
   "cell_type": "code",
   "execution_count": null,
   "metadata": {},
   "outputs": [],
   "source": [
    "# load in the data set\n",
    "climate = pd.read_csv('GlobalLandTemperaturesByCity.csv')"
   ]
  },
  {
   "cell_type": "code",
   "execution_count": null,
   "metadata": {},
   "outputs": [],
   "source": [
    "climate.head()"
   ]
  },
  {
   "cell_type": "code",
   "execution_count": null,
   "metadata": {},
   "outputs": [],
   "source": [
    "climate.info()"
   ]
  },
  {
   "cell_type": "code",
   "execution_count": null,
   "metadata": {},
   "outputs": [],
   "source": [
    "climate.isnull().sum()"
   ]
  },
  {
   "cell_type": "code",
   "execution_count": null,
   "metadata": {},
   "outputs": [],
   "source": [
    "# remove missing values\n",
    "climate.dropna(axis=0, inplace=True)"
   ]
  },
  {
   "cell_type": "code",
   "execution_count": null,
   "metadata": {},
   "outputs": [],
   "source": [
    "climate.head()"
   ]
  },
  {
   "cell_type": "code",
   "execution_count": null,
   "metadata": {},
   "outputs": [],
   "source": [
    "# remove the \"N\" and \"S\" from Latitude\n",
    "climate['Latitude'] = climate['Latitude'].map(lambda value: value.replace('N', '').replace('S', ''))"
   ]
  },
  {
   "cell_type": "code",
   "execution_count": null,
   "metadata": {},
   "outputs": [],
   "source": [
    "# remove the \"W\" and \"E\" from Longitude\n",
    "climate['Longitude'] = climate['Longitude'].map(lambda value: value.replace('E', '').replace('W', ''))"
   ]
  },
  {
   "cell_type": "code",
   "execution_count": null,
   "metadata": {},
   "outputs": [],
   "source": [
    "# Cast Longitude as a float\n",
    "climate['Longitude'] = climate['Longitude'].astype(float)"
   ]
  },
  {
   "cell_type": "code",
   "execution_count": null,
   "metadata": {},
   "outputs": [],
   "source": [
    "# Cast Latitude as a float\n",
    "climate['Latitude'] = climate['Latitude'].astype(float)"
   ]
  },
  {
   "cell_type": "code",
   "execution_count": null,
   "metadata": {},
   "outputs": [],
   "source": [
    "fig = plt.figure(figsize=(15,5))\n",
    "ax = fig.gca()\n",
    "\n",
    "climate.groupby('Country')[['AverageTemperature']].max().sort_values(\n",
    "    'AverageTemperature', ascending=False).head(50).plot.bar(stacked=False, ax=ax, color='darkorange')\n",
    "ax.set_title('Max Avg Temp by Country')"
   ]
  },
  {
   "cell_type": "code",
   "execution_count": null,
   "metadata": {},
   "outputs": [],
   "source": [
    "# Convert the dt column to datetime and extract the year\n",
    "climate['dt'] = pd.to_datetime(climate['dt'])\n",
    "climate['year'] = climate['dt'].map(lambda value: value.year)"
   ]
  },
  {
   "cell_type": "code",
   "execution_count": null,
   "metadata": {},
   "outputs": [],
   "source": [
    "climate.head()"
   ]
  },
  {
   "cell_type": "code",
   "execution_count": null,
   "metadata": {},
   "outputs": [],
   "source": [
    "climate['AverageTemperature'].nunique()"
   ]
  },
  {
   "cell_type": "code",
   "execution_count": null,
   "metadata": {},
   "outputs": [],
   "source": [
    "climate['AverageTemperature'].hist()"
   ]
  },
  {
   "cell_type": "code",
   "execution_count": null,
   "metadata": {},
   "outputs": [],
   "source": [
    "climate['AverageTemperature'].describe()"
   ]
  },
  {
   "cell_type": "code",
   "execution_count": null,
   "metadata": {},
   "outputs": [],
   "source": []
  },
  {
   "cell_type": "code",
   "execution_count": null,
   "metadata": {},
   "outputs": [],
   "source": [
    "# Raw scatterplot to show average temperatures in the world\n",
    "\n",
    "x = climate['year']\n",
    "y = climate['AverageTemperature']\n",
    "\n",
    "fig, ax = plt.subplots(figsize=(10,5))\n",
    "ax.scatter(x, y)\n",
    "plt.show()"
   ]
  },
  {
   "cell_type": "code",
   "execution_count": null,
   "metadata": {},
   "outputs": [],
   "source": [
    "# Oof, how about a subset the data to just the US?\n",
    "climate_sub_us = climate.loc[climate['Country'] == 'United States']"
   ]
  },
  {
   "cell_type": "code",
   "execution_count": null,
   "metadata": {},
   "outputs": [],
   "source": [
    "climate_sub_us['century'] = climate_sub_us['year'].map(lambda x: x/100+1)"
   ]
  },
  {
   "cell_type": "code",
   "execution_count": null,
   "metadata": {},
   "outputs": [],
   "source": [
    "climate_sub_us['AverageTemperature'].hist(by=climate_sub_us['century'], \n",
    "                                          sharex=True, sharey=True, \n",
    "                                          figsize=(10, 10), \n",
    "                                          bins=20)"
   ]
  },
  {
   "cell_type": "code",
   "execution_count": null,
   "metadata": {},
   "outputs": [],
   "source": [
    "climate_sub_us.groupby('century')['AverageTemperature'].mean().plot(kind='line')"
   ]
  },
  {
   "cell_type": "code",
   "execution_count": null,
   "metadata": {},
   "outputs": [],
   "source": [
    "century_changes = climate_sub_us.groupby('century')['AverageTemperature'].mean()\n",
    "\n",
    "# 21st century average temp in US minus 18th century average temp in US\n",
    "century_changes[21] - century_changes[18]  "
   ]
  },
  {
   "cell_type": "code",
   "execution_count": null,
   "metadata": {},
   "outputs": [],
   "source": [
    "century_changes"
   ]
  },
  {
   "cell_type": "code",
   "execution_count": null,
   "metadata": {},
   "outputs": [],
   "source": [
    "x = climate_sub_us['year']\n",
    "y = climate_sub_us['AverageTemperature']\n",
    "\n",
    "fig, ax = plt.subplots(figsize=(10,5))\n",
    "ax.scatter(x, y)\n",
    "plt.show()"
   ]
  },
  {
   "cell_type": "code",
   "execution_count": null,
   "metadata": {},
   "outputs": [],
   "source": [
    "# Not much better, Let's use a groupby to reduce the amount of noise in the US\n",
    "climate_sub_us.groupby('year').mean()['AverageTemperature'].plot()"
   ]
  },
  {
   "cell_type": "code",
   "execution_count": null,
   "metadata": {},
   "outputs": [],
   "source": [
    "# And a moving average to smooth it all out:\n",
    "climate_sub_us.groupby('year').mean()['AverageTemperature'].rolling(10).mean().plot()"
   ]
  },
  {
   "cell_type": "code",
   "execution_count": null,
   "metadata": {},
   "outputs": [],
   "source": []
  },
  {
   "cell_type": "code",
   "execution_count": null,
   "metadata": {},
   "outputs": [],
   "source": [
    "fig = plt.figure(figsize=(15,5))\n",
    "ax = fig.gca()\n",
    "\n",
    "climate_sub_us.groupby('City')[['AverageTemperature']].max().sort_values(\n",
    "    'AverageTemperature', ascending=False).tail(50).plot.bar(stacked=False, ax=ax, color='darkorange')\n",
    "ax.set_title('Max Avg Temp by US City')"
   ]
  },
  {
   "cell_type": "code",
   "execution_count": null,
   "metadata": {},
   "outputs": [],
   "source": []
  },
  {
   "cell_type": "code",
   "execution_count": null,
   "metadata": {},
   "outputs": [],
   "source": []
  }
 ],
 "metadata": {
  "kernelspec": {
   "display_name": "Python 3 (ipykernel)",
   "language": "python",
   "name": "python3"
  },
  "language_info": {
   "codemirror_mode": {
    "name": "ipython",
    "version": 3
   },
   "file_extension": ".py",
   "mimetype": "text/x-python",
   "name": "python",
   "nbconvert_exporter": "python",
   "pygments_lexer": "ipython3",
   "version": "3.8.12"
  }
 },
 "nbformat": 4,
 "nbformat_minor": 1
}
